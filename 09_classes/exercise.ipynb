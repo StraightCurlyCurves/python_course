{
 "cells": [
  {
   "cell_type": "markdown",
   "metadata": {},
   "source": [
    "# Python Classes/Objects\n",
    "\n",
    "Python is an object oriented programming language.\n",
    "\n",
    "Almost everything in Python is an object, with its attributes and methods.\n",
    "\n",
    "A Class is like an object constructor, or a \"blueprint\" for creating objects."
   ]
  },
  {
   "cell_type": "markdown",
   "metadata": {},
   "source": [
    "## Create a Class\n",
    "\n",
    "To create a class, use the keyword class:"
   ]
  },
  {
   "cell_type": "code",
   "execution_count": 12,
   "metadata": {},
   "outputs": [],
   "source": [
    "# Create a class named MyClass, with a property named x:\n",
    "class MyClass:\n",
    "    x = 5"
   ]
  },
  {
   "cell_type": "markdown",
   "metadata": {},
   "source": [
    "Now we can use the class named MyClass to create objects:"
   ]
  },
  {
   "cell_type": "code",
   "execution_count": null,
   "metadata": {},
   "outputs": [],
   "source": [
    "p1 = MyClass()\n",
    "print(p1.x) "
   ]
  },
  {
   "cell_type": "markdown",
   "metadata": {},
   "source": [
    "Task:\n",
    "1. Create a class which holds the attributes `first_name`, `last_name`, `age` and `sex`\n",
    "2. Give your class an appropriate name\n",
    "3. Create 3 objects and print their attributes "
   ]
  },
  {
   "cell_type": "code",
   "execution_count": null,
   "metadata": {},
   "outputs": [],
   "source": [
    "# Your code here\n",
    "\n",
    "\n",
    "\n",
    "ClassName.first_name = \"John\" # What happens to all the other objects of the class when you do this?"
   ]
  },
  {
   "cell_type": "markdown",
   "metadata": {},
   "source": [
    "## The `__init__()` Function\n",
    "\n",
    "The examples above are classes and objects in their simplest form, and are not really useful in real life applications.\n",
    "\n",
    "To understand the meaning of classes we have to understand the built-in `__init__()` function.\n",
    "\n",
    "All classes have a function called `__init__()`, which is always executed when the class is being initiated.\n",
    "\n",
    "Use the `__init__()` function to assign values to class attributes, or other operations that are necessary to do when the object is being created:"
   ]
  },
  {
   "cell_type": "code",
   "execution_count": null,
   "metadata": {},
   "outputs": [],
   "source": [
    "class Person:\n",
    "\tdef __init__(self, name, age):\n",
    "\t\tself.name = name\n",
    "\t\tself.age = age\n",
    "\n",
    "p1 = Person(\"John\", 36)\n",
    "Person.name = \"Anna\" # The problem from the previous example is fixed, thanks to the __init__() function and the self parameter.\n",
    "print(p1.name)\n",
    "print(p1.age)"
   ]
  },
  {
   "cell_type": "markdown",
   "metadata": {},
   "source": [
    "## Class Methods\n",
    "\n",
    "Classes can also contain methods.\n",
    "\n",
    "Let us create a method in the Person class:"
   ]
  },
  {
   "cell_type": "code",
   "execution_count": null,
   "metadata": {},
   "outputs": [],
   "source": [
    "class Person:\n",
    "\tdef __init__(self, name, age):\n",
    "\t\tself.name = name\n",
    "\t\tself.age = age\n",
    "\n",
    "\tdef myfunc(self):\n",
    "\t\tprint(\"Hello, my name is \" + self.name)\n",
    "\n",
    "p1 = Person(\"John\", 36)\n",
    "p1.myfunc() "
   ]
  },
  {
   "cell_type": "markdown",
   "metadata": {},
   "source": [
    "Note: The `self` parameter is a reference to the current instance of the class, and is used to access variables (attributes) that belong to the class. It does not have to be named self, you can call it whatever you like, but it has to be the first parameter of any function in the class."
   ]
  },
  {
   "cell_type": "markdown",
   "metadata": {},
   "source": []
  },
  {
   "cell_type": "markdown",
   "metadata": {},
   "source": [
    "## Modify object attributes\n",
    "\n",
    "You can modify object attributes like any other variable.\n",
    "\n",
    "Try it out! Change the name of the object `p1` from above."
   ]
  },
  {
   "cell_type": "code",
   "execution_count": null,
   "metadata": {},
   "outputs": [],
   "source": [
    "# Your code here"
   ]
  },
  {
   "cell_type": "markdown",
   "metadata": {},
   "source": [
    "## Getter and setters\n",
    "\n",
    "Let's think of an example where some attributes are dependend on each other, like a rectangle object that has height, width, and area as an object attribute. Here, you might want to only allow the attributes height and width to be changed, and if one of them gets changed, you want to update the area.\n",
    "\n",
    "In this case, it might be logical to the person who uses your rectangle class and thinks about to recalculate the area. But if you create more complex classes, you can help the users of your class by following some standards:\n",
    "\n",
    "- attributes starting with an underscore are meant to be \"private\". This means, those attributes should only be accessed within the class definition itself by the self parameter.\n",
    "- provide a set_attribute and a get_attribute function, where you can handle things like updating the area\n",
    "\n",
    "Try it out! Create a rectangle object, change the attribute `self._width` directly and check if the area is correct. Then, use the `set_width` function. Change the set functions so, that you will get the correct area."
   ]
  },
  {
   "cell_type": "code",
   "execution_count": null,
   "metadata": {},
   "outputs": [],
   "source": [
    "class Rectangle:\n",
    "    def __init__(self, width, height):\n",
    "        self._width = width\n",
    "        self._height = height\n",
    "        self._area = width * height\n",
    "\n",
    "    def set_width(self, width):\n",
    "        self._width = width\n",
    "    \n",
    "    def set_height(self, height):\n",
    "        self._height = height\n",
    "\n",
    "    def get_width(self):\n",
    "        return self._width\n",
    "    \n",
    "    def get_height(self):\n",
    "        return self._height\n",
    "\n",
    "    def get_area(self):\n",
    "        return self._area\n"
   ]
  },
  {
   "cell_type": "markdown",
   "metadata": {},
   "source": [
    "## Properties\n",
    "\n",
    "If you're handling an object, properties look like attributes of this class, but act more like a function without parameters.\n",
    "\n",
    "This helps the user to access \"attributes\" (properties), like the width, without calling a function.\n",
    "\n",
    "Properties should only be used, if it's - from the users's perspective - \"only\" a direct access to an attribute. When some bigger calculation have to be done, use a `get_`- or `calculate_` function. In this example, we can already argue if it wouldn't be better to use a setter function - or don't store an area attribute at all and recalculate the area every time when a function called `get_area` is called.\n",
    "\n",
    "What happens if you try to change `self._area`, what when you try to change `self.area`?"
   ]
  },
  {
   "cell_type": "code",
   "execution_count": null,
   "metadata": {},
   "outputs": [],
   "source": [
    "class Rectangle:\n",
    "    def __init__(self, width, height):\n",
    "        self._width = width\n",
    "        self._height = height\n",
    "        self._area = width * height\n",
    "\n",
    "    @property\n",
    "    def width(self):\n",
    "        return self._width\n",
    "    \n",
    "    @property\n",
    "    def height(self):\n",
    "        return self._height\n",
    "    \n",
    "    @property\n",
    "    def area(self):\n",
    "        return self._area\n",
    "    \n",
    "    @width.setter\n",
    "    def width(self, width):\n",
    "        self._width = width\n",
    "        self._area = self._width * self._height\n",
    "\n",
    "    @height.setter\n",
    "    def height(self, height):\n",
    "        self._height = height\n",
    "        self._area = self._width * self._height\n",
    "    \n",
    "\n",
    "rect = Rectangle(10, 20)\n",
    "print(rect.area)\n",
    "rect.width = 30\n",
    "print(rect.area)"
   ]
  },
  {
   "cell_type": "markdown",
   "metadata": {},
   "source": [
    "## Exercise\n",
    "\n",
    "Remember the exercise with the student grades from the chapter *functions*?\n",
    "\n",
    "Create a Student class which has the public methods `add_grade` and `get_letter_grade` (every other function should start with an underline). We should also be able to store some information (name, ...) about the student."
   ]
  },
  {
   "cell_type": "code",
   "execution_count": null,
   "metadata": {},
   "outputs": [],
   "source": [
    "# Your code here\n",
    "    \n",
    "student = Student('John', 20)\n",
    "student.add_grade(95)\n",
    "student.add_grade(75)\n",
    "student.add_grade(85)\n",
    "\n",
    "# Expected output: Student: John, final grade: B\n",
    "print(f'Student: {student.name}, final grade: {student.get_letter_grade()}')\n",
    "    "
   ]
  },
  {
   "cell_type": "code",
   "execution_count": null,
   "metadata": {},
   "outputs": [],
   "source": []
  }
 ],
 "metadata": {
  "kernelspec": {
   "display_name": "Python 3",
   "language": "python",
   "name": "python3"
  },
  "language_info": {
   "codemirror_mode": {
    "name": "ipython",
    "version": 3
   },
   "file_extension": ".py",
   "mimetype": "text/x-python",
   "name": "python",
   "nbconvert_exporter": "python",
   "pygments_lexer": "ipython3",
   "version": "3.12.2"
  }
 },
 "nbformat": 4,
 "nbformat_minor": 2
}
