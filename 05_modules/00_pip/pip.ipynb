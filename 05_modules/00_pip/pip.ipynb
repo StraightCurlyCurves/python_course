{
 "cells": [
  {
   "cell_type": "markdown",
   "metadata": {},
   "source": [
    "## What is PIP?\n",
    "\n",
    "PIP is a package manager for Python packages, or modules if you like.\n",
    "Modules are Python code libraries you can include in your project.\n",
    "\n",
    "Some of the most used and important modules are:\n",
    "\n",
    "- **numpy**: A fundamental package for scientific computing with Python. It provides support for arrays, matrices, and many mathematical functions to operate on these data structures.\n",
    "- **matplotlib**: A plotting library for the Python programming language and its numerical mathematics extension, NumPy. It provides an object-oriented API for embedding plots into applications.\n",
    "\n",
    "\n",
    "## How to install package\n",
    "\n",
    "To install a package, simply write `pip install <package_name>` in the terminal.\n",
    "\n",
    "If you installed python from python.org, PIP is included by default and added to `PATH`.\n",
    "\n",
    "\n",
    "## How to use a module\n",
    "\n",
    "In a python script, import the module with its module name you used to install it via pip (there are few exceptions). If the module name is long, you might want to give it an alias:"
   ]
  },
  {
   "cell_type": "code",
   "execution_count": null,
   "metadata": {},
   "outputs": [],
   "source": [
    "import numpy as np\n",
    "\n",
    "print(np.pi)"
   ]
  },
  {
   "cell_type": "markdown",
   "metadata": {},
   "source": [
    "If the code above doesn't work, you didn't install numpy yet: Install numpy by opening a terminal and type the following: `pip install numpy`."
   ]
  },
  {
   "cell_type": "markdown",
   "metadata": {},
   "source": [
    "## Install multiple packages\n",
    "\n",
    "You can install multiple packages with one command, just by separating them with a space: pip install <package1> <package2> <package3> ...\n",
    "\n",
    "Try it out! Install the packages `matplotlib`, `opencv-contrib-python` and `PyQt6` with one pip command!"
   ]
  }
 ],
 "metadata": {
  "kernelspec": {
   "display_name": "Python 3",
   "language": "python",
   "name": "python3"
  },
  "language_info": {
   "codemirror_mode": {
    "name": "ipython",
    "version": 3
   },
   "file_extension": ".py",
   "mimetype": "text/x-python",
   "name": "python",
   "nbconvert_exporter": "python",
   "pygments_lexer": "ipython3",
   "version": "3.12.2"
  }
 },
 "nbformat": 4,
 "nbformat_minor": 2
}
