{
 "cells": [
  {
   "cell_type": "markdown",
   "metadata": {},
   "source": [
    "# Numpy\n",
    "\n",
    "Numpy is a library for scientific computing with Python. It provides support for arrays, matrices, and many mathematical functions to operate on these data structures.\n",
    "\n",
    "It would be beyond the scope of this course to cover all of Numpy's features in detail.\n",
    "\n",
    "Therefore, we will only cover the absolute basics here."
   ]
  },
  {
   "cell_type": "code",
   "execution_count": 1,
   "metadata": {},
   "outputs": [],
   "source": [
    "import numpy as np"
   ]
  },
  {
   "cell_type": "markdown",
   "metadata": {},
   "source": [
    "##  Create a NumPy ndarray Object\n",
    "\n",
    "NumPy is used to work with arrays. The array object in NumPy is called `ndarray`.\n",
    "\n",
    "We can create a NumPy `ndarray` object by using the `array()` function.\n",
    "\n",
    "### Example"
   ]
  },
  {
   "cell_type": "code",
   "execution_count": null,
   "metadata": {},
   "outputs": [],
   "source": [
    "arr = np.array([1, 2, 3, 4, 5])\n",
    "\n",
    "print(arr)\n",
    "print(type(arr))"
   ]
  },
  {
   "cell_type": "markdown",
   "metadata": {},
   "source": [
    "## Shape of an Array\n",
    "\n",
    "The shape of an array is the number of elements in each dimension."
   ]
  },
  {
   "cell_type": "code",
   "execution_count": null,
   "metadata": {},
   "outputs": [],
   "source": [
    "arr = np.array([[1, 2, 3, 4], [5, 6, 7, 8]])\n",
    "\n",
    "print(arr.shape)"
   ]
  },
  {
   "cell_type": "markdown",
   "metadata": {},
   "source": [
    "\n",
    "\n",
    "`type()`: This built-in Python function tells us the type of the object passed to it. Like in the above code, it shows that `arr` is of `numpy.ndarray` type.\n",
    "\n",
    "To create an `ndarray`, we can pass a list, tuple, or any array-like object into the `array()` method, and it will be converted into an `ndarray`.\n"
   ]
  },
  {
   "cell_type": "markdown",
   "metadata": {},
   "source": [
    "## Multidimensional Arrays\n",
    "\n",
    "Numpy can handle n-dimensional arrays. An image for example has two dimensions. Or does it?\n",
    "\n",
    "A grayscale image has the shape of (height, width) - so 2 dimensions. Notice that in numpy, the height is in the first dimension.\\\n",
    "A RGB (color) image has the shape of (height, width, 3) - so 3 dimensions. The third dimension represents the three color channels: red, green, and blue.\n",
    "\n",
    "If the last dimension is a single element, it can be omitted. For example, a grayscale image can be represented as (height, width, 1) or (height, width).\\\n",
    "There is a small difference between the two representations. The former contains only the single element in its last dimension (for example an integer), while the latter contains an array with one element (for example an integer).\n",
    "\n",
    "If we are sophistical, we could also argue that each element in the RGB channel has a dimension of size 1 and therefore the shape of an RGB image should be (height, width, 3, 1). You see where this is going... This will only pack the single element in an array again, and we could go on an on with the game. So, as soon a dimension has the size 1, it is ignored as a dimension to prevent puting its element into an array.\n",
    "\n",
    "Here's an example:\n",
    "\n"
   ]
  },
  {
   "cell_type": "code",
   "execution_count": null,
   "metadata": {},
   "outputs": [],
   "source": [
    "# Black grayscale image\n",
    "grayscale_image = np.zeros((3, 4), dtype=np.uint8)\n",
    "print(grayscale_image)"
   ]
  },
  {
   "cell_type": "code",
   "execution_count": null,
   "metadata": {},
   "outputs": [],
   "source": [
    "grayscale_image = np.zeros((3, 4, 1), dtype=np.uint8)\n",
    "print(grayscale_image)"
   ]
  },
  {
   "cell_type": "markdown",
   "metadata": {},
   "source": [
    "As you can see, the zeros in the second image of shape (3, 4, 1) are just packed in an array, which is unnecessary.\n",
    "\n",
    "For an RGB image it is necessary: instead of a zero, it is an array of size 3: red, green, blue."
   ]
  },
  {
   "cell_type": "code",
   "execution_count": null,
   "metadata": {},
   "outputs": [],
   "source": [
    "rgb_image = np.zeros((3, 4, 3), dtype=np.uint8)\n",
    "print(rgb_image)"
   ]
  },
  {
   "cell_type": "markdown",
   "metadata": {},
   "source": [
    "## Indexing\n",
    "\n",
    "Indexing could be a standalone course in itself, but here are some examples on how to access numpy arrays:"
   ]
  },
  {
   "cell_type": "code",
   "execution_count": 6,
   "metadata": {},
   "outputs": [
    {
     "name": "stdout",
     "output_type": "stream",
     "text": [
      "[[ 0  1  2  3]\n",
      " [ 4  5  6  7]\n",
      " [ 8  9 10 11]]\n",
      "\n",
      "arr[0, 0]=0\n",
      "arr[1, 0]=4\n",
      "arr[2, -1]=11\n",
      "arr[2, -2]=10\n",
      "arr[1, :]=array([4, 5, 6, 7])\n",
      "arr[:, 1]=array([1, 5, 9])\n",
      "arr[1, 1:3]=array([5, 6])\n",
      "arr[1, 1:]=array([5, 6, 7])\n",
      "arr[1, :-1]=array([4, 5, 6])\n",
      "arr[1, ::2]=array([4, 6])\n",
      "arr[1, ::-1]=array([7, 6, 5, 4])\n",
      "arr[1, ::-2]=array([7, 5])\n",
      "\n",
      "[[[ 0  1  2]\n",
      "  [ 3  4  5]]\n",
      "\n",
      " [[ 6  7  8]\n",
      "  [ 9 10 11]]]\n",
      "\n",
      "arr[..., 0]=array([[0, 3],\n",
      "       [6, 9]])\n"
     ]
    }
   ],
   "source": [
    "arr = np.array(np.arange(12)).reshape(3, 4)\n",
    "print(arr)\n",
    "print()\n",
    "print(f'{arr[0, 0]=}')\n",
    "print(f'{arr[1, 0]=}')\n",
    "print(f'{arr[2, -1]=}')\n",
    "print(f'{arr[2, -2]=}')\n",
    "print(f'{arr[1, :]=}')\n",
    "print(f'{arr[:, 1]=}')\n",
    "print(f'{arr[1, 1:3]=}')\n",
    "print(f'{arr[1, 1:]=}')\n",
    "print(f'{arr[1, :-1]=}')\n",
    "print(f'{arr[1, ::2]=}')\n",
    "print(f'{arr[1, ::-1]=}')\n",
    "print(f'{arr[1, ::-2]=}')\n",
    "arr = np.array(np.arange(12)).reshape(2, 2, 3)\n",
    "print()\n",
    "print(arr)\n",
    "print()\n",
    "print(f'{arr[..., 0]=}') # ... means all the dimensions before the specified one\n"
   ]
  },
  {
   "cell_type": "code",
   "execution_count": null,
   "metadata": {},
   "outputs": [],
   "source": [
    "# And here are some examples of how to write to the elements of an array:\n",
    "arr = np.zeros((3, 4), dtype=np.uint16)\n",
    "arr[0, 0] = 100\n",
    "print(arr)\n",
    "print()\n",
    "arr[1, 0] = 200\n",
    "print(arr)\n",
    "print()\n",
    "arr[1, :] = 500\n",
    "print(arr)\n",
    "print()\n",
    "arr[1, :] = [1, 2, 3, 4]\n",
    "print(arr)\n",
    "print()\n",
    "arr[1, 1:3] = 700\n",
    "print(arr)"
   ]
  },
  {
   "cell_type": "markdown",
   "metadata": {},
   "source": [
    "## Masking\n",
    "\n",
    "Here as well: you can do much more than shown here. But in this course, a simple example:"
   ]
  },
  {
   "cell_type": "code",
   "execution_count": null,
   "metadata": {},
   "outputs": [],
   "source": [
    "arr = np.array([1, 1, 0, 1, 8, 0, 9, 1], dtype=np.uint8)\n",
    "mask = arr == 1\n",
    "print(mask)\n",
    "print(arr[mask])\n",
    "arr[mask] = 5\n",
    "print(arr)\n",
    "print(arr[arr > 5])\n",
    "arr[arr > 5] *= 2\n",
    "print(arr)\n",
    "mask = arr > 5\n",
    "arr[mask] = np.arange(len(arr[mask])) + 100\n",
    "print(arr)\n"
   ]
  },
  {
   "cell_type": "markdown",
   "metadata": {},
   "source": [
    "## Operations on the arrays\n",
    "\n",
    "It is also possible to use arithmetical operations with arrays:"
   ]
  },
  {
   "cell_type": "code",
   "execution_count": null,
   "metadata": {},
   "outputs": [],
   "source": [
    "arr = np.zeros((3, 4), dtype=np.uint16)\n",
    "print(arr)\n",
    "print()\n",
    "arr += 5\n",
    "print(arr)\n",
    "print()\n",
    "arr[1, :] *= 2\n",
    "print(arr)\n",
    "print()\n",
    "arr -= 1\n",
    "print(arr)\n",
    "print()\n",
    "arr[2, :] = arr[1, :] + arr[2, :]\n",
    "print(arr)\n",
    "\n"
   ]
  },
  {
   "cell_type": "markdown",
   "metadata": {},
   "source": [
    "## Ndarray specific class functions\n",
    "\n",
    "You already stumbled over the `reshape` class function. Let's look at some simpler functions:"
   ]
  },
  {
   "cell_type": "code",
   "execution_count": null,
   "metadata": {},
   "outputs": [],
   "source": [
    "# On arrays with more than one dimension, you can use the axis parameter to specify the axis along which you want to perform the operation.\n",
    "arr = np.array(np.arange(12)).reshape(3, 4)\n",
    "print(arr)\n",
    "print()\n",
    "print(f'{arr.sum()=}')\n",
    "print(f'{arr.sum(axis=0)=}')\n",
    "print(f'{arr.sum(axis=1)=}')\n",
    "print(f'{arr.mean()=}')\n",
    "print(f'{arr.mean(axis=0)=}')\n",
    "print(f'{arr.mean(axis=1)=}')\n",
    "print(f'{arr.std()=}')\n",
    "print(f'{arr.std(axis=0)=}')\n",
    "print(f'{arr.std(axis=1)=}')\n",
    "print(f'{arr.min()=}')\n",
    "print(f'{arr.min(axis=0)=}')"
   ]
  },
  {
   "cell_type": "markdown",
   "metadata": {},
   "source": [
    "## Exercise\n",
    "\n",
    "We want to plot the Voltage over time from a Swiss AC socket.\n",
    "\n",
    "AC in Switzerland alternates with 50 Hz and the voltage level is 230V RMS. That means, that the voltage peak is $230 V \\times \\sqrt{2} \\approx 325 V$.\n",
    "\n",
    "Tasks:\n",
    "- Generate with the `linspace()` method an array `x_data` which contains 10000 points between 0 an 0.1: This will represent points in time.\n",
    "- Use the general formula for a parametrised sine wave so calculate the Voltage for each point in time: y = A * sin(2 * pi * f * t + phi), where:\n",
    "    - A is the amplitude of the wave\n",
    "    - f is the frequency of the wave\n",
    "    - t is the time\n",
    "    - phi is the phase of the wave (which is irrelevant for us)"
   ]
  },
  {
   "cell_type": "code",
   "execution_count": null,
   "metadata": {},
   "outputs": [],
   "source": [
    "# Given parameters\n",
    "frequency = 50\n",
    "amplitude = 325\n",
    "\n",
    "# Generate the x data\n",
    "x_data = np.linspace(0, 0.1, 10000) # 10000 points between 0 and 0.1 seconds\n",
    "print(x_data)\n",
    "\n",
    "# Generate the y data\n",
    "y_data = amplitude * np.sin(2 * np.pi * frequency * x_data)\n",
    "print(y_data)\n",
    "\n",
    "# Plot the data\n",
    "import matplotlib.pyplot as plt\n",
    "fig, ax = plt.subplots()\n",
    "ax.plot(x_data, y_data)\n",
    "ax.set_xlabel('Time [s]')\n",
    "ax.set_ylabel('Amplitude [V]')\n",
    "ax.set_title('AC Voltage Signal of a Swiss Power Outlet')\n",
    "ax.grid()"
   ]
  },
  {
   "cell_type": "markdown",
   "metadata": {},
   "source": [
    "There are five periods during 100 ms, as expected for a 50 Hz signal."
   ]
  },
  {
   "cell_type": "markdown",
   "metadata": {},
   "source": [
    "# Exercise\n",
    "\n",
    "Generate a RGB image and fill it with clever indexing, so that it shows the german (easy) or the swiss (harder) flag!"
   ]
  },
  {
   "cell_type": "code",
   "execution_count": null,
   "metadata": {},
   "outputs": [],
   "source": [
    "import numpy as np\n",
    "import matplotlib.pyplot as plt\n",
    "\n",
    "germany_flag = np.zeros((300, 500, 3), dtype=np.uint8)\n",
    "# your code here\n",
    "\n",
    "\n",
    "swiss_flag = np.zeros((500, 500, 3), dtype=np.uint8)\n",
    "# your code here\n",
    "\n",
    "plt.imshow(germany_flag)\n",
    "# plt.imshow(swiss_flag)"
   ]
  },
  {
   "cell_type": "markdown",
   "metadata": {},
   "source": []
  }
 ],
 "metadata": {
  "kernelspec": {
   "display_name": "Python 3",
   "language": "python",
   "name": "python3"
  },
  "language_info": {
   "codemirror_mode": {
    "name": "ipython",
    "version": 3
   },
   "file_extension": ".py",
   "mimetype": "text/x-python",
   "name": "python",
   "nbconvert_exporter": "python",
   "pygments_lexer": "ipython3",
   "version": "3.12.2"
  }
 },
 "nbformat": 4,
 "nbformat_minor": 2
}
