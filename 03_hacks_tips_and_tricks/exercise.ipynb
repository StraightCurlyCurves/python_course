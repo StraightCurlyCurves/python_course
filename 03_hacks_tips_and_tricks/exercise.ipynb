{
 "cells": [
  {
   "cell_type": "markdown",
   "metadata": {},
   "source": [
    "# Overview\n",
    "\n",
    "Here's a quick overview of the tips and tricks covered in this Jupyter Notebook:\n",
    "- Comment\n",
    "- Rename a Variable\n",
    "- Cursor Magic\n",
    "  - Cursing Around\n",
    "  - Multiple Cursors\n",
    "  - Vertical Selection\n",
    "  - Select Next Occurrence\n",
    "- Move Lines\n",
    "\n",
    "To execute a single block, simply click within it and press `Shift+Enter`."
   ]
  },
  {
   "cell_type": "markdown",
   "metadata": {},
   "source": [
    "## Comment\n",
    "\n",
    "Press `Ctrl+§` to comment or uncomment one or multiple lines.\n",
    "\n",
    "If you want to deactivate one or more lines of code in Python, you can do this by adding a `#` at the beginning of the line. This can also be used to add a comment or a description of the following lines.\n",
    "\n",
    "Instead of manually writing a `#` in front of each line, simply select the lines you want to comment and press `Ctrl+§`. If it's only one line, placing the cursor anywhere in that line is sufficient.\n",
    "\n",
    "Try it out! Uncomment the lines where `a`, `b`, and `c` are defined, run the block, then comment the line with the `not_used` variable and the prints of `a` and `b`, and run the block again."
   ]
  },
  {
   "cell_type": "code",
   "execution_count": null,
   "metadata": {},
   "outputs": [],
   "source": [
    "# Let's add some numbers!\n",
    "not_used = 1\n",
    "# a = 2\n",
    "# b = 3\n",
    "# c = a + b\n",
    "print(a)\n",
    "print(b)\n",
    "print(c)"
   ]
  },
  {
   "cell_type": "markdown",
   "metadata": {},
   "source": [
    "## Rename a Variable\n",
    "\n",
    "To rename a variable, place the cursor into or next to it, press `F2` (or right-click -> `Rename Symbol`), and type the new name, then press Enter.\n",
    "\n",
    "Sometimes a variable name is poorly chosen, and you want to rename it. Manually renaming it is inefficient, and using search and replace risks altering instances of the variable name within strings or comments, especially if the variable name is short or common. In the following example, this would be problematic since both a string and a comment contain the variable name, but these instances are not intended to be changed.\n",
    "\n",
    "Try it out! Rename the variable `bad_variable_name` to `good_variable_name` without altering its occurrences in the string or in the comment."
   ]
  },
  {
   "cell_type": "code",
   "execution_count": null,
   "metadata": {},
   "outputs": [],
   "source": [
    "bad_variable_name = \"Not sure wether I am a bad_variable_name or a good_variable_name\"\n",
    "\n",
    "# Let's print the varible, which is either a bad_variable_name or a good_variable_name\n",
    "print(bad_variable_name)"
   ]
  },
  {
   "cell_type": "markdown",
   "metadata": {},
   "source": [
    "## Cursor Magic\n",
    "\n",
    "There are some cool and handy features around the cursor.\n",
    "Here's a quick overview of what we cover here:\n",
    "- Cursing Around\n",
    "- Multiple Cursors\n",
    "- Vertical Selection\n",
    "- Select Next Occurrence"
   ]
  },
  {
   "cell_type": "markdown",
   "metadata": {},
   "source": [
    "### Cursing Around\n",
    "\n",
    "Press `Ctrl+ArrowLeft` or `Ctrl+ArrowRight` to jump across whole words, variables, or expressions.\n",
    "\n",
    "Press `Shift+ArrowLeft` or `Shift+ArrowRight` to select (or deselect) upcoming characters. Press `Ctrl+Shift+ArrowLeft` or `Ctrl+Shift+ArrowRight` to jump-select whole words, variables, or expressions.\n",
    "\n",
    "Try it out! In the second line, after the equal sign, continue writing \"numbers\" - but oops! You forgot to add the prefix \"good_\" (for `good_numbers`) at the beginning! Jump back to the beginning of the variable name with `Ctrl+ArrowLeft` and prepend \"good_\".\n",
    "\n",
    "Then, with the cursor still positioned after \"good_\", select \"number\" (without the \"s\") by using `Ctrl+Shift+ArrowRight` (to select \"numbers\") and then `Shift+ArrowLeft` (to deselect the \"s\"). Now you can copy it with `Ctrl+C` and use the just copied text wisely."
   ]
  },
  {
   "cell_type": "code",
   "execution_count": null,
   "metadata": {},
   "outputs": [],
   "source": [
    "good_numbers = [1, 3, 5, 7, 11, 13, 17, 19, 23, 29]\n",
    "reference_to_good_numbers = "
   ]
  },
  {
   "cell_type": "markdown",
   "metadata": {},
   "source": [
    "### Multiple Cursors\n",
    "\n",
    "Hold the `Alt` key and click with the left mouse button to place multiple cursors. You can combine this with *cursing around* (as described above).\n",
    "\n",
    "Hold `Shift` while placing a cursor on one line and then on another line further down or up. This will automatically create cursors on all lines in between. (Cursor must be placed exactly vertically up or down, otherwise it will be a *vertical selection*)\n",
    "\n",
    "Try it out! Separate the words in the first variable with underscores to make it more readable (`number_of_variables_in_this_block`) by using multiple cursors. Also, add an underscore between the term \"variable\" and its number for the other variables. Place a single cursor just in front of the \"1\" (`variable|1`) and then another one, while holding `Shift+Alt`, in front of the \"10\" (`variable|10`), then type the underscore."
   ]
  },
  {
   "cell_type": "code",
   "execution_count": null,
   "metadata": {},
   "outputs": [],
   "source": [
    "numberofvariablesinthisblock = 10\n",
    "variable1 = 1\n",
    "variable2 = 2\n",
    "variable3 = 3\n",
    "variable4 = 4\n",
    "variable5 = 5\n",
    "variable6 = 6\n",
    "variable7 = 7\n",
    "variable8 = 8\n",
    "variable9 = 9\n",
    "variable10 = 10"
   ]
  },
  {
   "cell_type": "markdown",
   "metadata": {},
   "source": [
    "### Vertical Selection\n",
    "\n",
    "Click & drag while holding `Shift+Alt` to make a vertical selection (rectangle).\n",
    "\n",
    "Alternatively, you can achieve the same selection by placing one cursor at one of the corners of the rectangle you want to select and then, while holding `Shift+Alt`, place the second cursor at the opposite corner of the rectangle. If the rectangle has no width, it will automatically create multiple cursors in between (refer to *multiple cursors* above).\n",
    "\n",
    "Try it out! Assign the variables with the number they have in their names: Copy all the numbers at once (by making a vertical selection), then use the methods from *cursing around* to navigate all the cursors one space away from the equal sign and paste it."
   ]
  },
  {
   "cell_type": "code",
   "execution_count": null,
   "metadata": {},
   "outputs": [],
   "source": [
    "variable_1 =\n",
    "variable_2 =\n",
    "variable_3 =\n",
    "variable_4 =\n",
    "variable_5 ="
   ]
  },
  {
   "cell_type": "markdown",
   "metadata": {},
   "source": [
    "### Select Next Occurrence\n",
    "\n",
    "Press `Ctrl+D` to select (and place a cursor at) the next occurrence of the currently selected text.\n",
    "\n",
    "This feature is very similar to search & replace but offers a more interactive approach since it also places a cursor, and it requires just one shortcut to be pressed.\n",
    "\n",
    "Try it out! In the following script, the dpi (dots per inch) of 300 was used several times. However, it was always written as the number 300. It would be more efficient to create a variable for it (which has already been done) and replace the numbers with this variable:\n",
    "\n",
    "- Double-click the number 300 in line 5 to select it, then press `Ctrl+D` three times to select all instances of 300 and overwrite them with \"dpi\".\n",
    "- For the last two lines, which also apply to the height: Select both lines, copy them, and paste them underneath. Select the word \"width\" in the newly copied variable `pixel_coordinate_width`, press `Ctrl+D` twice, and replace it with \"height\". You may choose a different value for `pixel_coordinate_height` if you wish."
   ]
  },
  {
   "cell_type": "code",
   "execution_count": null,
   "metadata": {},
   "outputs": [],
   "source": [
    "width = 1920\n",
    "height = 1080\n",
    "dpi = 300\n",
    "\n",
    "image_width_in_mm = width / 300 * 25.4\n",
    "image_height_in_mm = height / 300 * 25.4\n",
    "\n",
    "pixel_coordinate_width = 100\n",
    "mm_coordinates_width = pixel_coordinate_width / 300 * 25.4"
   ]
  },
  {
   "cell_type": "markdown",
   "metadata": {},
   "source": [
    "## Move Lines\n",
    "\n",
    "To move a line up or down, place the cursor anywhere in that line and press `Alt+ArrowUp` or `Alt+ArrowDown`. To move several lines together up or down, simply select multiple lines (it's not necessary for the first and last line to be fully selected).\n",
    "\n",
    "To indent multiple lines to the right, select the lines (again, full selection of the first and last line is not required) and press `Tab`. To indent them to the left, press `Shift+Tab`.\n",
    "\n",
    "Try it out! To ensure the incrementation of `x` and `y` works within the for-loop, these variables must be defined before the for-loop. Move them up and indent them to the left!"
   ]
  },
  {
   "cell_type": "code",
   "execution_count": null,
   "metadata": {},
   "outputs": [],
   "source": [
    "for _ in range(5):\n",
    "    x = 0\n",
    "    y = 0\n",
    "    print(x, y)\n",
    "    x += 1\n",
    "    y += 2"
   ]
  }
 ],
 "metadata": {
  "kernelspec": {
   "display_name": "Python 3",
   "language": "python",
   "name": "python3"
  },
  "language_info": {
   "codemirror_mode": {
    "name": "ipython",
    "version": 3
   },
   "file_extension": ".py",
   "mimetype": "text/x-python",
   "name": "python",
   "nbconvert_exporter": "python",
   "pygments_lexer": "ipython3",
   "version": "3.12.2"
  }
 },
 "nbformat": 4,
 "nbformat_minor": 2
}
