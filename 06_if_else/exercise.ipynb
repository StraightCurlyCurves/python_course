{
 "cells": [
  {
   "cell_type": "markdown",
   "metadata": {},
   "source": [
    "# If ... Else\n",
    "## If statement\n",
    "\n",
    "An if statement executes its code block only if the given condition is true. The condition is false if it is `False` or `0`; otherwise (`True`, `2`,`-1`, `\"a string\"`, ...), it is true.\n",
    "\n",
    "An \"if statement\" is written by using the `if` keyword, followed by the condition and a colon `:`. The code block of the `if` statement has to be indented. Other programming languages often use curly-brackets for this purpose.\n",
    "\n",
    "Determine the console output. Change the code, so that, depending on the condition, either \"hello world\" or nothing is printed:"
   ]
  },
  {
   "cell_type": "code",
   "execution_count": 6,
   "metadata": {},
   "outputs": [
    {
     "name": "stdout",
     "output_type": "stream",
     "text": [
      "hello\n",
      "world\n"
     ]
    }
   ],
   "source": [
    "if -1:\n",
    "    print(\"hello\")\n",
    "print(\"world\")"
   ]
  },
  {
   "cell_type": "markdown",
   "metadata": {},
   "source": [
    "## Conditions\n",
    "\n",
    "A condition can be more than a single expression. Use comparison, identity, and membership operators to generate `True` or `False`. Combine these boolean conditions with logical operators to form a single condition. (See chapter \"operators\" in \"getting_started\" in this course).\n",
    "\n",
    "What does the statement have to look like when we want to determine if the temperature is ok? There is more than one solution..."
   ]
  },
  {
   "cell_type": "code",
   "execution_count": null,
   "metadata": {},
   "outputs": [],
   "source": [
    "min_temperature = 16\n",
    "max_temperature = 30\n",
    "temperature = 28\n",
    "\n",
    "temperature_ok = ???\n",
    "too_cold = temperature < min_temperature\n",
    "too_hot = temperature > max_temperature\n",
    "\n",
    "print(temperature_ok)\n",
    "print(too_cold)\n",
    "print(too_hot)\n",
    "\n",
    "if temperature_ok:\n",
    "    print(\"It's just right!\")\n",
    "if too_cold:\n",
    "    print(\"It's too cold!\")\n",
    "if too_hot:\n",
    "    print(\"It's too hot!\")"
   ]
  },
  {
   "cell_type": "markdown",
   "metadata": {},
   "source": [
    "A condition can be written directly after the `if` keyword:"
   ]
  },
  {
   "cell_type": "code",
   "execution_count": 9,
   "metadata": {},
   "outputs": [
    {
     "name": "stdout",
     "output_type": "stream",
     "text": [
      "We have at least one fruit and one vegetable!\n"
     ]
    }
   ],
   "source": [
    "grocery_list = [\"apples\", \"bananas\", \"carrots\", \"dates\"]\n",
    "if (\"apples\" in grocery_list or \"bananas\" in grocery_list) and (\"carrots\" in grocery_list or \"eggplant\" in grocery_list):\n",
    "    print(\"We have at least one fruit and one vegetable!\")"
   ]
  },
  {
   "cell_type": "markdown",
   "metadata": {},
   "source": [
    "The condition above is True, if we either have an apple or a banana in our list AND either carrots or eggplant. Important to note is that the `and` operator has a higher precedence than the `or` operator. Without paranthesises, it would first check if the statement \"bananas AND carrots\" in grocery_list is true, and only after taht execute the `or` operations."
   ]
  },
  {
   "cell_type": "markdown",
   "metadata": {},
   "source": [
    "## Elif and Else\n",
    "\n",
    "The `elif` keyword is Python's way of saying \"if the previous conditions were not true, then try this condition\". If a condition is true, python will ignore all the following `elif` statements, even if they are true.\n",
    "\n",
    "Guess the output:"
   ]
  },
  {
   "cell_type": "code",
   "execution_count": 12,
   "metadata": {},
   "outputs": [
    {
     "name": "stdout",
     "output_type": "stream",
     "text": [
      "a and b are equal\n"
     ]
    }
   ],
   "source": [
    "a = 33\n",
    "b = 33\n",
    "if b > a:\n",
    "  print(\"b is greater than a\")\n",
    "elif a == b:\n",
    "  print(\"a and b are equal\")\n",
    "elif a > 0:\n",
    "  print(\"a is greater than zero\")"
   ]
  },
  {
   "cell_type": "markdown",
   "metadata": {},
   "source": [
    "The `else` keyword catches anything which isn't caught by the preceding conditions."
   ]
  },
  {
   "cell_type": "code",
   "execution_count": 13,
   "metadata": {},
   "outputs": [
    {
     "name": "stdout",
     "output_type": "stream",
     "text": [
      "a is greater than b\n"
     ]
    }
   ],
   "source": [
    "a = 200\n",
    "b = 33\n",
    "if b > a:\n",
    "  print(\"b is greater than a\")\n",
    "elif a == b:\n",
    "  print(\"a and b are equal\")\n",
    "else:\n",
    "  print(\"a is greater than b\")"
   ]
  },
  {
   "cell_type": "markdown",
   "metadata": {},
   "source": [
    "Task: Rewrite the code with the temperature from above and use the `elif` and/or the `else` statements."
   ]
  },
  {
   "cell_type": "code",
   "execution_count": null,
   "metadata": {},
   "outputs": [],
   "source": [
    "min_temperature = 16\n",
    "max_temperature = 30\n",
    "temperature = 28\n",
    "\n",
    "temperature_ok = ???\n",
    "too_cold = temperature < min_temperature\n",
    "too_hot = temperature > max_temperature\n",
    "\n",
    "print(temperature_ok)\n",
    "print(too_cold)\n",
    "print(too_hot)\n",
    "\n",
    "if temperature_ok:\n",
    "    print(\"It's just right!\")\n",
    "if too_cold:\n",
    "    print(\"It's too cold!\")\n",
    "if too_hot:\n",
    "    print(\"It's too hot!\")"
   ]
  },
  {
   "cell_type": "code",
   "execution_count": null,
   "metadata": {},
   "outputs": [],
   "source": []
  }
 ],
 "metadata": {
  "kernelspec": {
   "display_name": "python_course",
   "language": "python",
   "name": "python3"
  },
  "language_info": {
   "codemirror_mode": {
    "name": "ipython",
    "version": 3
   },
   "file_extension": ".py",
   "mimetype": "text/x-python",
   "name": "python",
   "nbconvert_exporter": "python",
   "pygments_lexer": "ipython3",
   "version": "3.11.8"
  }
 },
 "nbformat": 4,
 "nbformat_minor": 2
}
