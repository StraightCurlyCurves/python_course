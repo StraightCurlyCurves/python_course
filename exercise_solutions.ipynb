{
 "cells": [
  {
   "cell_type": "markdown",
   "metadata": {},
   "source": [
    "### Datatypes"
   ]
  },
  {
   "cell_type": "code",
   "execution_count": null,
   "metadata": {},
   "outputs": [],
   "source": [
    "a = '97'\n",
    "b = '98'\n",
    "c = '99'\n",
    "d = chr(int(a)) + chr(int(b)) + chr(int(c))\n",
    "\n",
    "print(d) # prints the string 'abc'"
   ]
  },
  {
   "cell_type": "code",
   "execution_count": null,
   "metadata": {},
   "outputs": [],
   "source": [
    "def count_data_types(data_list):\n",
    "    type_counts = {'int': 0, 'float': 0, 'str': 0, 'others': 0}\n",
    "    \n",
    "    for item in data_list:\n",
    "        if type(item) == int:\n",
    "            type_counts['int'] += 1\n",
    "        elif type(item) == float:\n",
    "            type_counts['float'] += 1\n",
    "        elif type(item) == str:\n",
    "            type_counts['str'] += 1\n",
    "        else:\n",
    "            type_counts['others'] += 1\n",
    "    \n",
    "    return type_counts\n",
    "\n",
    "# Example usage:\n",
    "result = count_data_types([1, 2.5, 'hello', True, 3, 'world', 4.0])\n",
    "print(result)\n",
    "# Output: {'int': 2, 'float': 2, 'str': 2, 'others': 1}"
   ]
  },
  {
   "cell_type": "markdown",
   "metadata": {},
   "source": [
    "### Strings"
   ]
  },
  {
   "cell_type": "code",
   "execution_count": null,
   "metadata": {},
   "outputs": [],
   "source": [
    "def process_string(input_string: str):\n",
    "    # Convert to lowercase\n",
    "    modified_string = input_string.lower()\n",
    "    \n",
    "    # Remove leading and trailing whitespace\n",
    "    modified_string = modified_string.strip()\n",
    "    \n",
    "    # Replace spaces with underscores\n",
    "    modified_string = modified_string.replace(' ', '_')\n",
    "    \n",
    "    # Count vowels\n",
    "    vowels = 'aeiou'\n",
    "    vowel_count = sum(1 for char in modified_string if char in vowels)\n",
    "    \n",
    "    return modified_string, vowel_count\n",
    "\n",
    "# Example usage:\n",
    "result = process_string(\"  Hello World!  \")\n",
    "print(result)  # Output: ('hello_world!', 3)"
   ]
  },
  {
   "cell_type": "code",
   "execution_count": null,
   "metadata": {},
   "outputs": [],
   "source": [
    "names = [\"Alice\", \"Bob\", \"Charlie\", \"David\", \"Eve\"]\n",
    "heights = [165.85, 180.25, 175.39, 192.56, 170.01]\n",
    "for name, height in zip(names, heights):\n",
    "    length = len(name)\n",
    "    print(f'{name+\":\":15}{height:.1f} cm')"
   ]
  },
  {
   "cell_type": "markdown",
   "metadata": {},
   "source": [
    "### Operators"
   ]
  },
  {
   "cell_type": "code",
   "execution_count": null,
   "metadata": {},
   "outputs": [],
   "source": [
    "distance_MSB = 0b10111001\n",
    "distance_LSB = 0b01010110\n",
    "\n",
    "distance = (distance_MSB << 8) + distance_LSB\n",
    "\n",
    "# Output: Distance: 47.446 m\n",
    "print(f'Distance: {distance/1000} m')"
   ]
  },
  {
   "cell_type": "markdown",
   "metadata": {},
   "source": [
    "### Arrays"
   ]
  },
  {
   "cell_type": "code",
   "execution_count": null,
   "metadata": {},
   "outputs": [],
   "source": [
    "weekly_tasks = []\n",
    "weekly_tasks.append(['Math homework', 'Call parents']) # Monday\n",
    "weekly_tasks.append(['Go to the gym', 'Buy groceries']) # Tuesday\n",
    "weekly_tasks.append(['Study for the exam', 'Clean the house']) # Wednesday\n",
    "weekly_tasks.append(['Watch a movie']) # Thursday\n",
    "weekly_tasks.append(['Go to the gym', 'Meet friends']) # Friday\n",
    "weekly_tasks.append([]) # Saturday\n",
    "weekly_tasks.append([]) # Sunday\n",
    "\n",
    "print(weekly_tasks[4][1]) # Second Task on Friday: Meet friends\n",
    "print(weekly_tasks)\n",
    "for task in weekly_tasks:\n",
    "    print(task)"
   ]
  },
  {
   "cell_type": "markdown",
   "metadata": {},
   "source": [
    "### Numpy"
   ]
  },
  {
   "cell_type": "code",
   "execution_count": null,
   "metadata": {},
   "outputs": [],
   "source": [
    "import numpy as np\n",
    "\n",
    "# Given parameters\n",
    "frequency = 50\n",
    "amplitude = 325\n",
    "\n",
    "# Generate the x data\n",
    "x_data = np.linspace(0, 0.1, 10000) # 10000 points between 0 and 0.1 seconds\n",
    "print(x_data)\n",
    "\n",
    "# Generate the y data\n",
    "y_data = amplitude * np.sin(2 * np.pi * frequency * x_data)\n",
    "print(y_data)\n",
    "\n",
    "# Plot the data\n",
    "import matplotlib.pyplot as plt\n",
    "fig, ax = plt.subplots()\n",
    "ax.plot(x_data, y_data)\n",
    "ax.set_xlabel('Time [s]')\n",
    "ax.set_ylabel('Amplitude [V]')\n",
    "ax.set_title('AC Voltage Signal of a Swiss Power Outlet')\n",
    "ax.grid()"
   ]
  },
  {
   "cell_type": "code",
   "execution_count": null,
   "metadata": {},
   "outputs": [],
   "source": [
    "import numpy as np\n",
    "import matplotlib.pyplot as plt\n",
    "\n",
    "germany_flag = np.zeros((300, 500, 3), dtype=np.uint8)\n",
    "germany_flag[:100, :] = [0, 0, 0]\n",
    "germany_flag[100:200, :] = [255, 0, 0]\n",
    "germany_flag[200:, :] = [255, 255, 0]\n",
    "\n",
    "\n",
    "swiss_flag = np.zeros((500, 500, 3), dtype=np.uint8)\n",
    "swiss_flag[:, :, 0] = 255\n",
    "swiss_flag[200:300, 100:400] = 255\n",
    "swiss_flag[100:400, 200:300] = 255\n",
    "\n",
    "# plt.imshow(germany_flag)\n",
    "plt.imshow(swiss_flag)"
   ]
  },
  {
   "cell_type": "markdown",
   "metadata": {},
   "source": [
    "### If Else"
   ]
  },
  {
   "cell_type": "code",
   "execution_count": null,
   "metadata": {},
   "outputs": [],
   "source": [
    "# Simple Solution (original problem is called FizzBuzz)\n",
    "words = ['Fizz', 'Buzz']\n",
    "numbers = [3, 5]\n",
    "\n",
    "for i in range(100):\n",
    "    if i % 3 == 0 and i % 5 == 0:\n",
    "        print(words[0] + words[1])\n",
    "    elif i % 3 == 0:\n",
    "        print(words[0])\n",
    "    elif i % 5 == 0:\n",
    "        print(words[1])\n",
    "    else:\n",
    "        print(i)"
   ]
  },
  {
   "cell_type": "code",
   "execution_count": null,
   "metadata": {},
   "outputs": [],
   "source": [
    "# Advanced Solution: Generalize to any number of words and numbers\n",
    "words = ['Fizz', 'Buzz']\n",
    "numbers = [3, 5]\n",
    "\n",
    "for i in range(1, 100):\n",
    "    output = \"\"\n",
    "    for word, number in zip(words, numbers):\n",
    "        if i % number == 0:\n",
    "            output += word\n",
    "    if output == \"\":\n",
    "        output = i\n",
    "    print(output)\n",
    "    "
   ]
  },
  {
   "cell_type": "markdown",
   "metadata": {},
   "source": [
    "### Loops exercise"
   ]
  },
  {
   "cell_type": "code",
   "execution_count": null,
   "metadata": {},
   "outputs": [],
   "source": [
    "numbers = [432, 32, 4591, -6, 270271, 1] # for the number 432, it takes 115 iterations to reach 1\n",
    "max_iterations = 200\n",
    "for number in numbers:\n",
    "    if number < 1:\n",
    "        continue\n",
    "    i = 0\n",
    "    starting_number = number\n",
    "    max_reached = 0\n",
    "    while number != 1:\n",
    "        if i == max_iterations:\n",
    "            print(f'{starting_number:_} did not reach 1 after {max_iterations:_} iterations')\n",
    "            break\n",
    "        if number % 2 == 0:\n",
    "            number //= 2\n",
    "        else:\n",
    "            number = number * 3 + 1\n",
    "        if number > max_reached:\n",
    "            max_reached = number\n",
    "        i += 1\n",
    "    else:\n",
    "        print(f'{starting_number:_} took {i:_} iterations to reach 1 and climbed to {max_reached:_}')"
   ]
  },
  {
   "cell_type": "markdown",
   "metadata": {},
   "source": [
    "### Functions exercise"
   ]
  },
  {
   "cell_type": "code",
   "execution_count": null,
   "metadata": {},
   "outputs": [],
   "source": [
    "def calculate_average(grades):\n",
    "    return sum(grades) / len(grades)\n",
    "\n",
    "def determine_letter_grade(average):\n",
    "    if 90 <= average <= 100:\n",
    "        return 'A'\n",
    "    elif 80 <= average < 90:\n",
    "        return 'B'\n",
    "    elif 70 <= average < 80:\n",
    "        return 'C'\n",
    "    elif 60 <= average < 70:\n",
    "        return 'D'\n",
    "    else:\n",
    "        return 'F'\n",
    "\n",
    "def process_student_grades(students):\n",
    "    return {student: determine_letter_grade(calculate_average(grades)) for student, grades in students.items()}\n",
    "\n",
    "# Test data\n",
    "students = {\n",
    "    'Alice': [85, 92, 88],\n",
    "    'Bob': [78, 81, 74],\n",
    "    'Charlie': [95, 100, 98],\n",
    "    'David': [62, 67, 70],\n",
    "    'Eve': [55, 60, 58]\n",
    "}\n",
    "\n",
    "# Expected output: {'Alice': 'B', 'Bob': 'C', 'Charlie': 'A', 'David': 'D', 'Eve': 'F'}\n",
    "print(process_student_grades(students))"
   ]
  },
  {
   "cell_type": "markdown",
   "metadata": {},
   "source": [
    "### Classes exercise"
   ]
  },
  {
   "cell_type": "code",
   "execution_count": null,
   "metadata": {},
   "outputs": [],
   "source": [
    "class Student:\n",
    "    def __init__(self, name, age):\n",
    "        self._name = name\n",
    "        self._age = age\n",
    "        self._grades = []\n",
    "    \n",
    "    @property\n",
    "    def name(self):\n",
    "        return self._name\n",
    "    \n",
    "    @property\n",
    "    def age(self):\n",
    "        return self._age\n",
    "    \n",
    "    @property\n",
    "    def grades(self):\n",
    "        return self._grades\n",
    "\n",
    "    def add_grade(self, grade):\n",
    "        self._grades.append(grade)\n",
    "    \n",
    "    def get_letter_grade(self):\n",
    "        avg = self._calculate_average_grade()\n",
    "        if avg >= 90:\n",
    "            return 'A'\n",
    "        elif avg >= 80:\n",
    "            return 'B'\n",
    "        elif avg >= 70:\n",
    "            return 'C'\n",
    "        elif avg >= 60:\n",
    "            return 'D'\n",
    "        else:\n",
    "            return 'F'\n",
    "        \n",
    "    def _calculate_average_grade(self):\n",
    "        return sum(self._grades) / len(self._grades)\n",
    "    \n",
    "student = Student('John', 20)\n",
    "student.add_grade(95)\n",
    "student.add_grade(75)\n",
    "student.add_grade(85)\n",
    "\n",
    "# Expected output: Student: John, final grade: B\n",
    "print(f'Student: {student.name}, final grade: {student.get_letter_grade()}')"
   ]
  },
  {
   "cell_type": "code",
   "execution_count": null,
   "metadata": {},
   "outputs": [],
   "source": []
  }
 ],
 "metadata": {
  "kernelspec": {
   "display_name": "python_course",
   "language": "python",
   "name": "python3"
  },
  "language_info": {
   "codemirror_mode": {
    "name": "ipython",
    "version": 3
   },
   "file_extension": ".py",
   "mimetype": "text/x-python",
   "name": "python",
   "nbconvert_exporter": "python",
   "pygments_lexer": "ipython3",
   "version": "3.12.2"
  }
 },
 "nbformat": 4,
 "nbformat_minor": 2
}
