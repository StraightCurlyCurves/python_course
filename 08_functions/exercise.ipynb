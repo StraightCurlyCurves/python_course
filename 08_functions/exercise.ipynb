{
 "cells": [
  {
   "cell_type": "markdown",
   "metadata": {},
   "source": [
    "# Functions\n",
    "\n",
    "A function is a block of code which only runs when it is called.\n",
    "\n",
    "You can pass data, known as arguments, into a function.\n",
    "\n",
    "A function can return data as a result."
   ]
  },
  {
   "cell_type": "markdown",
   "metadata": {},
   "source": [
    "## Creating a Function\n",
    "\n",
    "In Python a function is defined using the def keyword. To call a function, use the function name followed by parenthesis."
   ]
  },
  {
   "cell_type": "code",
   "execution_count": null,
   "metadata": {},
   "outputs": [],
   "source": [
    "def my_function():\n",
    "    print(\"Hello from a function\")\n",
    "\n",
    "my_function()"
   ]
  },
  {
   "cell_type": "markdown",
   "metadata": {},
   "source": [
    "## Arguments\n",
    "\n",
    "You can pass data (arguments) into your function. When you define the function, add the parameters in the parantheses."
   ]
  },
  {
   "cell_type": "code",
   "execution_count": null,
   "metadata": {},
   "outputs": [],
   "source": [
    "def my_function(name):\n",
    "    print(\"Hello \" + name)\n",
    "\n",
    "my_function(\"Emil\")\n",
    "my_name = \"John\"\n",
    "my_function(my_name)"
   ]
  },
  {
   "cell_type": "markdown",
   "metadata": {},
   "source": [
    "You can add as many arguments as you want, just separate them with a comma.\n",
    "\n",
    "Try it out! Simplify following code by creating a function that takes three arguments."
   ]
  },
  {
   "cell_type": "code",
   "execution_count": null,
   "metadata": {},
   "outputs": [],
   "source": [
    "first_names = [\"Anna\", \"Becky\", \"Corinne\"]\n",
    "last_names = [\"Doe\", \"Einstein\", \"Franklin\"]\n",
    "ages = [23, 24, 25]\n",
    "\n",
    "print(f'First name: {first_names[0]}, Last name: {last_names[0]}, Age: {ages[0]}')\n",
    "print(f'First name: {first_names[1]}, Last name: {last_names[1]}, Age: {ages[1]}')\n",
    "print(f'First name: {first_names[2]}, Last name: {last_names[2]}, Age: {ages[2]}')\n"
   ]
  },
  {
   "cell_type": "markdown",
   "metadata": {},
   "source": [
    "## Parameters or Arguments?\n",
    "\n",
    "The terms parameter and argument can be used for the same thing: information that are passed into a function.\n",
    "\n",
    "From a function's perspective:\n",
    "\n",
    "- A parameter is the variable listed inside the parentheses in the function definition.\n",
    "\n",
    "- An argument is the value that is sent to the function when it is called.\n"
   ]
  },
  {
   "cell_type": "markdown",
   "metadata": {},
   "source": [
    "## Default parameter value\n",
    "\n",
    "With a default parameter value, the function can be called without the parameter value, and it will use the default value. It has to be defined after the required parameters."
   ]
  },
  {
   "cell_type": "code",
   "execution_count": null,
   "metadata": {},
   "outputs": [],
   "source": [
    "def my_function(name, age, print_age=True):\n",
    "    if print_age:\n",
    "        print(f'Hello {name}, you are {age} years old')\n",
    "    else:\n",
    "        print(f'Hello {name}')\n",
    "\n",
    "my_function(\"John\", 36)\n",
    "my_function(\"John\", 36, False)"
   ]
  },
  {
   "cell_type": "markdown",
   "metadata": {},
   "source": [
    "## Keyword arguments\n",
    "\n",
    "If you call a function, instead of passing each argument in the correct order, you can pass the arguments in any order, as long as you specifiy the key (parameter name).\n",
    "\n",
    "This is especially handy for default parameter, since you might only want to change a specific default parameter (default parameters don't have to, but can be passed to a function).\n",
    "\n",
    "**Note:** Without using keywords, the order is important (also for default parameters). As soon as you use a keyword, you can't use the position anymore (even if you kept the correct order) and you have to specify all non-default parameters with a keyword.\n",
    "\n",
    "Try it out! Correct the mistake in the last function call!"
   ]
  },
  {
   "cell_type": "code",
   "execution_count": null,
   "metadata": {},
   "outputs": [],
   "source": [
    "def my_function(name, age, print_age=True, print_name=True):\n",
    "    if print_name and print_age:\n",
    "        print(f'Hello {name}, you are {age} years old')\n",
    "    elif print_name:\n",
    "        print(f'Hello {name}')\n",
    "    elif print_age:\n",
    "        print(f'You are {age} years old')\n",
    "        \n",
    "\n",
    "my_function(\"Anna\", 23)\n",
    "my_function(\"Anna\", 23, False)\n",
    "my_function(\"Anna\", 23, print_name=False)\n",
    "my_function(name=\"Anna\", 23, print_name=False)\n"
   ]
  },
  {
   "cell_type": "markdown",
   "metadata": {},
   "source": [
    "## Arbitrary arguments\n",
    "\n",
    "If you do not know how many arguments that will be passed into your function, add a * before the parameter name in the function definition.\n",
    "\n",
    "This way the function will receive a tuple of arguments, and can access the items accordingly. An arbitrary argument is by default an empty tuple and therefore defined: you don't have to pass any data to it.\n",
    "\n",
    "Try it out! Change the function, so that it takes arbitrary number of arguments and calculates its sum!"
   ]
  },
  {
   "cell_type": "code",
   "execution_count": null,
   "metadata": {},
   "outputs": [],
   "source": [
    "def my_sum(val_1, val_2):\n",
    "    sum = val_1 + val_2\n",
    "    return sum\n",
    "\n",
    "print(my_sum(1, 2, 3, 4, 5))\n",
    "print(my_sum())"
   ]
  },
  {
   "cell_type": "markdown",
   "metadata": {},
   "source": [
    "## Arbitrary Keyword Arguments\n",
    "\n",
    "If you do not know how many keyword arguments that will be passed into your function, add two asterisk: ** before the parameter name in the function definition.\n",
    "\n",
    "This way the function will receive a dictionary of arguments, and can access the items accordingly:\n"
   ]
  },
  {
   "cell_type": "code",
   "execution_count": null,
   "metadata": {},
   "outputs": [],
   "source": [
    "def my_function(**kwargs):\n",
    "    if \"name\" in kwargs and \"age\" in kwargs:\n",
    "        print(f'Hello {kwargs[\"name\"]}, you are {kwargs[\"age\"]} years old')\n",
    "    elif \"name\" in kwargs:\n",
    "        print(f'Hello {kwargs[\"name\"]}')\n",
    "    elif \"age\" in kwargs:\n",
    "        print(f'You are {kwargs[\"age\"]} years old')\n",
    "    else:\n",
    "        print(\"Hello\")\n",
    "\n",
    "my_function(name=\"John\", age=36)\n",
    "my_function(name=\"John\")\n",
    "my_function(age=36)\n",
    "my_function()\n",
    "    "
   ]
  },
  {
   "cell_type": "markdown",
   "metadata": {},
   "source": [
    "## Order\n",
    "\n",
    "When defining parameters for a function, the correct order for your parameters is:\n",
    "\n",
    "1. Standard arguments\n",
    "2. *args arguments\n",
    "3. Default parameter arguments\n",
    "4. **kwargs arguments"
   ]
  },
  {
   "cell_type": "markdown",
   "metadata": {},
   "source": [
    "## Exercise\n",
    "\n",
    "Write a program that calculates the average grade for a list of students and determines their letter grade based on the average.\n",
    "\n",
    "Instructions:\n",
    "1. Define a function `calculate_average` that takes a list of grades and returns the average grade.\n",
    "2. Define a function `determine_letter_grade` that takes an average grade and returns the corresponding letter grade based on the following scale:\n",
    "   - A: 90-100\n",
    "   - B: 80-89\n",
    "   - C: 70-79\n",
    "   - D: 60-69\n",
    "   - F: 0-59\n",
    "3. Define a function `process_student_grades` that takes a dictionary of student names and their list of grades, calculates the average grade for each student, determines their letter grade, and returns a dictionary with student names and their letter grades."
   ]
  },
  {
   "cell_type": "code",
   "execution_count": null,
   "metadata": {},
   "outputs": [],
   "source": [
    "# Your code here\n",
    "\n",
    "\n",
    "# Test data\n",
    "students = {\n",
    "    'Alice': [85, 92, 88],\n",
    "    'Bob': [78, 81, 74],\n",
    "    'Charlie': [95, 100, 98],\n",
    "    'David': [62, 67, 70],\n",
    "    'Eve': [55, 60, 58]\n",
    "}\n",
    "\n",
    "# Expected output: {'Alice': 'B', 'Bob': 'C', 'Charlie': 'A', 'David': 'D', 'Eve': 'F'}\n",
    "print(process_student_grades(students))"
   ]
  },
  {
   "cell_type": "code",
   "execution_count": null,
   "metadata": {},
   "outputs": [],
   "source": []
  }
 ],
 "metadata": {
  "kernelspec": {
   "display_name": "Python 3",
   "language": "python",
   "name": "python3"
  },
  "language_info": {
   "codemirror_mode": {
    "name": "ipython",
    "version": 3
   },
   "file_extension": ".py",
   "mimetype": "text/x-python",
   "name": "python",
   "nbconvert_exporter": "python",
   "pygments_lexer": "ipython3",
   "version": "3.12.2"
  }
 },
 "nbformat": 4,
 "nbformat_minor": 2
}
