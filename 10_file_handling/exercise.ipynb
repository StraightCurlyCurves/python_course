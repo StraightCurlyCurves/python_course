{
 "cells": [
  {
   "cell_type": "markdown",
   "metadata": {},
   "source": [
    "## Read a file\n",
    "\n",
    "With the \"open\" function, you can open a file and read its contents. The \"open\" function returns a file object that you can use to read the file."
   ]
  },
  {
   "cell_type": "code",
   "execution_count": 10,
   "metadata": {},
   "outputs": [
    {
     "name": "stdout",
     "output_type": "stream",
     "text": [
      "Hello! This is the first line!\n",
      "And this the second line!\n",
      "The third line is the last line.\n",
      "\n",
      "\n",
      "['Hello! This is the first line!\\n', 'And this the second line!\\n', 'The third line is the last line.']\n"
     ]
    }
   ],
   "source": [
    "file = open('message.txt')\n",
    "print(file.read()) # read the first line\n",
    "print(file.read()) # read the next line\n",
    "print(file.read()) # read the next line\n",
    "\n",
    "# or read all the lines at once and store them in a list\n",
    "file.seek(0) # move the cursor to the beginning of the file\n",
    "lines = file.readlines()\n",
    "print(lines)\n",
    "file.close() # close the file so that it can be used by other programs"
   ]
  },
  {
   "cell_type": "markdown",
   "metadata": {},
   "source": [
    "Task: Find a better solution if you don't know how many lines the test file has!"
   ]
  },
  {
   "cell_type": "code",
   "execution_count": null,
   "metadata": {},
   "outputs": [],
   "source": [
    "# Your code here"
   ]
  },
  {
   "cell_type": "markdown",
   "metadata": {},
   "source": [
    "## Write a file\n",
    "\n",
    "Analog to the `read` method, there is a `write` method. You have to open the file in write mode!"
   ]
  },
  {
   "cell_type": "code",
   "execution_count": 25,
   "metadata": {},
   "outputs": [],
   "source": [
    "first_line = 'Hello, World!'\n",
    "second_line = 'How are you today?'\n",
    "\n",
    "file = open('my_message.txt', 'w')\n",
    "file.write(first_line)\n",
    "file.write(second_line)\n",
    "file.close()"
   ]
  },
  {
   "cell_type": "markdown",
   "metadata": {},
   "source": [
    "Check out the file. What do you see?\n",
    "\n",
    "Fix it! A new line is made with the new line [escape code](https://en.wikipedia.org/wiki/ANSI_escape_code) `\"\\n\"`."
   ]
  },
  {
   "cell_type": "markdown",
   "metadata": {},
   "source": []
  },
  {
   "cell_type": "markdown",
   "metadata": {},
   "source": [
    "## Extend file\n",
    "\n",
    "To extend a file, open an existing file in write mode and"
   ]
  },
  {
   "cell_type": "code",
   "execution_count": 24,
   "metadata": {},
   "outputs": [],
   "source": [
    "# write some text at the end of the existing txt file\n",
    "lines = ['I am doing great!\\n', 'How about you?\\n']\n",
    "file = open('my_message.txt', 'a')\n",
    "file.writelines(lines)\n",
    "file.close()"
   ]
  },
  {
   "cell_type": "markdown",
   "metadata": {},
   "source": []
  }
 ],
 "metadata": {
  "kernelspec": {
   "display_name": "Python 3",
   "language": "python",
   "name": "python3"
  },
  "language_info": {
   "codemirror_mode": {
    "name": "ipython",
    "version": 3
   },
   "file_extension": ".py",
   "mimetype": "text/x-python",
   "name": "python",
   "nbconvert_exporter": "python",
   "pygments_lexer": "ipython3",
   "version": "3.12.2"
  }
 },
 "nbformat": 4,
 "nbformat_minor": 2
}
