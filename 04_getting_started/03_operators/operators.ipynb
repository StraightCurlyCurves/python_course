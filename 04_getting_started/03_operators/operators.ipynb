{
 "cells": [
  {
   "cell_type": "markdown",
   "metadata": {},
   "source": [
    "# Python Operators\n",
    "\n",
    "Operators are used to perform operations on variables and values.\n",
    "\n",
    "In the example below, we use the + operator to add together two values:"
   ]
  },
  {
   "cell_type": "code",
   "execution_count": 1,
   "metadata": {},
   "outputs": [
    {
     "name": "stdout",
     "output_type": "stream",
     "text": [
      "15\n"
     ]
    }
   ],
   "source": [
    "print(10 + 5)"
   ]
  },
  {
   "cell_type": "markdown",
   "metadata": {},
   "source": [
    "## Python Arithmetic Operators\n",
    "Arithmetic operators are used with numeric values to perform common mathematical operations:"
   ]
  },
  {
   "cell_type": "code",
   "execution_count": 17,
   "metadata": {},
   "outputs": [
    {
     "name": "stdout",
     "output_type": "stream",
     "text": [
      "Addition:       x + y  -> 28\n",
      "Subtraction:    x - y  -> 12\n",
      "Multiplication: x * y  -> 160\n",
      "Division:       x / y  -> 2.5\n",
      "Modulus:        x % y  -> 4\n",
      "Exponentiation: x ** y -> 25600000000\n",
      "Floor division: x // y -> 2\n"
     ]
    }
   ],
   "source": [
    "x = 20\n",
    "y = 8\n",
    "\n",
    "print(f'Addition:       x + y  -> {x + y}')\n",
    "print(f'Subtraction:    x - y  -> {x - y}')\n",
    "print(f'Multiplication: x * y  -> {x * y}')\n",
    "print(f'Division:       x / y  -> {x / y}')\n",
    "print(f'Modulus:        x % y  -> {x % y}')\n",
    "print(f'Exponentiation: x ** y -> {x ** y}')\n",
    "print(f'Floor division: x // y -> {x // y}')"
   ]
  },
  {
   "cell_type": "markdown",
   "metadata": {},
   "source": [
    "## Comparison Operators\n",
    "\n",
    "Comparison operators are used to compare two values:"
   ]
  },
  {
   "cell_type": "code",
   "execution_count": 2,
   "metadata": {},
   "outputs": [
    {
     "name": "stdout",
     "output_type": "stream",
     "text": [
      "Equal to:                 a == b -> False\n",
      "Not equal to:             a != b -> True\n",
      "Greater than:             a > b  -> True\n",
      "Less than:                a < b  -> False\n",
      "Greater than or equal to: a >= b -> True\n",
      "Less than or equal to:    a <= b -> False\n"
     ]
    }
   ],
   "source": [
    "a = 20\n",
    "b = 8\n",
    "\n",
    "print(f'Equal to:                 a == b -> {a == b}')\n",
    "print(f'Not equal to:             a != b -> {a != b}')\n",
    "print(f'Greater than:             a > b  -> {a > b}')\n",
    "print(f'Less than:                a < b  -> {a < b}')\n",
    "print(f'Greater than or equal to: a >= b -> {a >= b}')\n",
    "print(f'Less than or equal to:    a <= b -> {a <= b}')"
   ]
  },
  {
   "cell_type": "markdown",
   "metadata": {},
   "source": [
    "## Python Logical Operators\n",
    "\n",
    "Logical operators are used to combine conditional statements:"
   ]
  },
  {
   "cell_type": "code",
   "execution_count": 3,
   "metadata": {},
   "outputs": [
    {
     "name": "stdout",
     "output_type": "stream",
     "text": [
      "Logical AND:    a and b -> False\n",
      "Logical OR:     a or b  -> True\n",
      "Logical NOT a:  not a   -> False\n",
      "Logical NOT b:  not b   -> True\n"
     ]
    }
   ],
   "source": [
    "a = True\n",
    "b = False\n",
    "\n",
    "print(f'Logical AND:    a and b -> {a and b}')\n",
    "print(f'Logical OR:     a or b  -> {a or b}')\n",
    "print(f'Logical NOT a:  not a   -> {not a}')\n",
    "print(f'Logical NOT b:  not b   -> {not b}')"
   ]
  },
  {
   "cell_type": "markdown",
   "metadata": {},
   "source": [
    "## Python Identity Operators\n",
    "\n",
    "Identity operators are used to compare the objects, not if they are equal, but if they are actually the same object, with the same memory location:"
   ]
  },
  {
   "cell_type": "code",
   "execution_count": 24,
   "metadata": {},
   "outputs": [
    {
     "name": "stdout",
     "output_type": "stream",
     "text": [
      "Is:        a is b      -> True\n",
      "Is not:    a is not b  -> False\n",
      "Is:        a is c      -> False\n",
      "Is not:    a is not c  -> True\n",
      "Is:        a is d      -> True\n",
      "Is not:    a is not d  -> False\n",
      "\n",
      "Is:        a is b      -> False\n"
     ]
    }
   ],
   "source": [
    "a = 20\n",
    "b = 20\n",
    "c = 15\n",
    "d = a\n",
    "\n",
    "print(f'Is:        a is b      -> {a is b}')\n",
    "print(f'Is not:    a is not b  -> {a is not b}')\n",
    "print(f'Is:        a is c      -> {a is c}')\n",
    "print(f'Is not:    a is not c  -> {a is not c}')\n",
    "print(f'Is:        a is d      -> {a is d}')\n",
    "print(f'Is not:    a is not d  -> {a is not d}')\n",
    "print()\n",
    "\n",
    "# Python caches small integers and reuses them. That's the reason why 'a is b' is True, even though there are two different variables and should therefore be two different objects:\n",
    "# As soon as you change the value of a or b, or the numbers are big enough, python won't use the same cache for multiple variables and the result will be like you expect:\n",
    "a = 2000\n",
    "b = 2000\n",
    "\n",
    "print(f'Is:        a is b      -> {a is b}')\n",
    "\n",
    "# The same is true for most of the data types in Python, as long they are very small."
   ]
  },
  {
   "cell_type": "markdown",
   "metadata": {},
   "source": [
    "## Python Membership Operators\n",
    "\n",
    "Membership operators are used to test if a sequence is presented in an object:"
   ]
  },
  {
   "cell_type": "code",
   "execution_count": 19,
   "metadata": {},
   "outputs": [
    {
     "name": "stdout",
     "output_type": "stream",
     "text": [
      "In:        x in lst      -> True\n",
      "Not in:    x not in lst  -> False\n",
      "In:        y in lst      -> False\n",
      "Not in:    y not in lst  -> True\n",
      "\n",
      "In:        substring in text       -> True\n",
      "Not in:    substring not in text   -> False\n",
      "In:        substring2 in text      -> False\n",
      "Not in:    substring2 not in text  -> True\n"
     ]
    }
   ],
   "source": [
    "lst = [10, 20, 30, 40, 50]\n",
    "x = 20\n",
    "y = 60\n",
    "\n",
    "print(f'In:        x in lst      -> {x in lst}')\n",
    "print(f'Not in:    x not in lst  -> {x not in lst}')\n",
    "print(f'In:        y in lst      -> {y in lst}')\n",
    "print(f'Not in:    y not in lst  -> {y not in lst}')\n",
    "print()\n",
    "\n",
    "text = 'Hello, World!'\n",
    "substring = 'Hello'\n",
    "substring2 = 'hello'\n",
    "\n",
    "print(f'In:        substring in text       -> {substring in text}')\n",
    "print(f'Not in:    substring not in text   -> {substring not in text}')\n",
    "print(f'In:        substring2 in text      -> {substring2 in text}')\n",
    "print(f'Not in:    substring2 not in text  -> {substring2 not in text}')"
   ]
  },
  {
   "cell_type": "markdown",
   "metadata": {},
   "source": [
    "## Python Bitwise Operators\n",
    "\n",
    "Bitwise operators are used to compare (binary) numbers:"
   ]
  },
  {
   "cell_type": "code",
   "execution_count": 57,
   "metadata": {},
   "outputs": [
    {
     "name": "stdout",
     "output_type": "stream",
     "text": [
      "Bitwise AND:         a & b  -> 0001\n",
      "Bitwise OR:          a | b  -> 1111\n",
      "Bitwise XOR:         a ^ b  -> 1110\n",
      "Bitwise NOT a:       ~a     -> 0100\n",
      "Bitwise NOT b:       ~b     -> 1010\n",
      "Bitwise LEFT SHIFT:  a << 1 -> 10110\n",
      "Bitwise RIGHT SHIFT: a >> 1 -> 0101\n"
     ]
    }
   ],
   "source": [
    "a = 0b1011  # 11 in decimal\n",
    "b = 0b0101  # 5 in decimal\n",
    "\n",
    "print(f'Bitwise AND:         a & b  -> {(a & b):04b}')\n",
    "print(f'Bitwise OR:          a | b  -> {(a | b):04b}')\n",
    "print(f'Bitwise XOR:         a ^ b  -> {(a ^ b):04b}')\n",
    "print(f'Bitwise NOT a:       ~a     -> {(~a & 0b1111):04b}')  # Mask to 4 bits\n",
    "print(f'Bitwise NOT b:       ~b     -> {(~b & 0b1111):04b}')  # Mask to 4 bits\n",
    "print(f'Bitwise LEFT SHIFT:  a << 1 -> {(a << 1):04b}')\n",
    "print(f'Bitwise RIGHT SHIFT: a >> 1 -> {(a >> 1):04b}')"
   ]
  },
  {
   "cell_type": "markdown",
   "metadata": {},
   "source": [
    "## Operator Precedence\n",
    "\n",
    "Operator precedence describes the order in which operations are performed."
   ]
  },
  {
   "cell_type": "code",
   "execution_count": 58,
   "metadata": {},
   "outputs": [
    {
     "name": "stdout",
     "output_type": "stream",
     "text": [
      "30\n",
      "20\n"
     ]
    }
   ],
   "source": [
    "# Parentheses has the highest precedence, meaning that expressions inside parentheses must be evaluated first:\n",
    "print((10 + 5) * 2)\n",
    "\n",
    "# Multiplication * has higher precedence than addition +, and therefor multiplications are evaluated before additions:\n",
    "print(10 + 5 * 2)"
   ]
  },
  {
   "cell_type": "markdown",
   "metadata": {},
   "source": [
    "The precedence order is described in the table below, starting with the highest precedence at the top:\n",
    "\n",
    "| Operator                         | Description                                           |\n",
    "|----------------------------------|-------------------------------------------------------|\n",
    "| `()`                             | Parentheses                                           |\n",
    "| `**`                             | Exponentiation                                        |\n",
    "| `+x  -x  ~x`                     | Unary plus, unary minus, and bitwise NOT              |\n",
    "| `*  /  //  %`                    | Multiplication, division, floor division, and modulus |\n",
    "| `+  -`                           | Addition and subtraction                              |\n",
    "| `<<  >>`                         | Bitwise left and right shifts                         |\n",
    "| `&`                              | Bitwise AND                                           |\n",
    "| `^`                              | Bitwise XOR                                           |\n",
    "| `\\|`                             | Bitwise OR                                            |\n",
    "| <pre>`==`  `!=`  `>`  `>=`  `<`  `<=`<br>`is`  `is not`<br>`in`  `not in`</pre>| Comparisons, identity, and membership operators|\n",
    "| `not`                            | Logical NOT                                           |\n",
    "| `and`                            | AND                                                   |\n",
    "| `or`                             | OR                                                    |"
   ]
  },
  {
   "cell_type": "markdown",
   "metadata": {},
   "source": []
  }
 ],
 "metadata": {
  "kernelspec": {
   "display_name": "python_course",
   "language": "python",
   "name": "python3"
  },
  "language_info": {
   "codemirror_mode": {
    "name": "ipython",
    "version": 3
   },
   "file_extension": ".py",
   "mimetype": "text/x-python",
   "name": "python",
   "nbconvert_exporter": "python",
   "pygments_lexer": "ipython3",
   "version": "3.12.2"
  }
 },
 "nbformat": 4,
 "nbformat_minor": 2
}
