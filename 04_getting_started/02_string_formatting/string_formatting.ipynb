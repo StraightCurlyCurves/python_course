{
 "cells": [
  {
   "cell_type": "markdown",
   "metadata": {},
   "source": [
    "# String formatting\n",
    "\n",
    "Even though string formatting doesn't have anything to do directly with the print function, it is often times used to format a string to print out to the console.\n",
    "\n",
    "To format a string, you can place an `f` in front of the string and use placehoder `{}` which can contain variables, operations, functions, and modifiers to format the value."
   ]
  },
  {
   "cell_type": "code",
   "execution_count": 9,
   "metadata": {},
   "outputs": [
    {
     "name": "stdout",
     "output_type": "stream",
     "text": [
      "The price is 49.64578424 dollars, which is roughly 49.65 dollars\n",
      "Double the price is roughly 99.- dollars.\n",
      "49.65 dollars for two tickets is cheap.\n",
      "49.65 dollars for one ticket is expensive.\n",
      "A million tickets would cost 49645784.24 dollars.\n",
      "This price is more readable with commas and rounded to a dollar: 49,645,784.- dollars.\n",
      "\n",
      "Also, it is possible to print 'single quotation marks' by using double quotation marks\n",
      "and \"double quotation marks\" by using single quotation marks.\n",
      "To print both 'single' and \"double\" quotation marks, use '''triple quotation marks'''.\n",
      "To use all at the same time('singe', \"double\", \"\"\"triple(double)\"\"\") and '' 'triple(single)' '' (without a space)... well, don't you have bigger problems?.\n",
      "No? Here you go: 'single', \"double\", \"\"\"triple(double)\"\"\" and '''triple(single)''' (indeed without a space).\n"
     ]
    }
   ],
   "source": [
    "price = 49.64578424\n",
    "txt = f\"The price is {price} dollars, which is roughly {price:.2f} dollars\"\n",
    "print(txt)\n",
    "print(f\"Double the price is roughly {price*2:.0f}.- dollars.\")\n",
    "print(f\"{price:.2f} dollars for two tickets is {'expensive' if price > 50 else 'cheap'}.\")\n",
    "print(f\"{price:.2f} dollars for one ticket is {'expensive' if price > 25 else 'cheap'}.\")\n",
    "print(f\"A million tickets would cost {price*1_000_000:.2f} dollars.\")\n",
    "print(f\"This price is more readable with commas and rounded to a dollar: {price*1_000_000:,.0f}.- dollars.\")\n",
    "print()\n",
    "print(\"Also, it is possible to print 'single quotation marks' by using double quotation marks\")\n",
    "print('and \"double quotation marks\" by using single quotation marks.')\n",
    "print(\"\"\"To print both 'single' and \"double\" quotation marks, use '''triple quotation marks'''.\"\"\")\n",
    "print('''To use all at the same time('singe', \"double\", \"\"\"triple(double)\"\"\") and '' 'triple(single)' '' (without a space)... well, don't you have bigger problems?.''')\n",
    "print('''No? Here you go: 'single', \"double\", \"\"\"triple(double)\"\"\" and \\'\\'\\'triple(single)\\'\\'\\' (indeed without a space).''')"
   ]
  },
  {
   "cell_type": "markdown",
   "metadata": {},
   "source": [
    "Here are examples for all the available string format modifiers:"
   ]
  },
  {
   "cell_type": "code",
   "execution_count": 3,
   "metadata": {},
   "outputs": [
    {
     "name": "stdout",
     "output_type": "stream",
     "text": [
      "We have 49       chickens.\n"
     ]
    }
   ],
   "source": [
    "#To demonstrate, we insert the number 8 to set the available space for the value to 8 characters.\n",
    "#Use \"<\" to left-align the value:\n",
    "txt = f\"We have {49:<8} chickens.\"\n",
    "print(txt)"
   ]
  },
  {
   "cell_type": "code",
   "execution_count": 4,
   "metadata": {},
   "outputs": [
    {
     "name": "stdout",
     "output_type": "stream",
     "text": [
      "We have       49 chickens.\n"
     ]
    }
   ],
   "source": [
    "#To demonstrate, we insert the number 8 to set the available space for the value to 8 characters.\n",
    "#Use \">\" to right-align the value:\n",
    "txt = f\"We have {49:>8} chickens.\"\n",
    "print(txt)"
   ]
  },
  {
   "cell_type": "code",
   "execution_count": 5,
   "metadata": {},
   "outputs": [
    {
     "name": "stdout",
     "output_type": "stream",
     "text": [
      "We have    49    chickens.\n"
     ]
    }
   ],
   "source": [
    "#To demonstrate, we insert the number 8 to set the available space for the value to 8 characters.\n",
    "#Use \"^\" to center-align the value:\n",
    "txt = f\"We have {49:^8} chickens.\"\n",
    "print(txt)"
   ]
  },
  {
   "cell_type": "code",
   "execution_count": 6,
   "metadata": {},
   "outputs": [
    {
     "name": "stdout",
     "output_type": "stream",
     "text": [
      "The temperature is -      5 degrees celsius.\n"
     ]
    }
   ],
   "source": [
    "#To demonstrate, we insert the number 8 to specify the available space for the value.\n",
    "#Use \"=\" to place the plus/minus sign at the left most position:\n",
    "txt = f\"The temperature is {-5:=8} degrees celsius.\"\n",
    "print(txt)"
   ]
  },
  {
   "cell_type": "code",
   "execution_count": 7,
   "metadata": {},
   "outputs": [
    {
     "name": "stdout",
     "output_type": "stream",
     "text": [
      "The temperature is between -3 and +7 degrees celsius.\n"
     ]
    }
   ],
   "source": [
    "#Use \"+\" to always indicate if the number is positive or negative:\n",
    "txt = f\"The temperature is between {-3:+} and {7:+} degrees celsius.\"\n",
    "print(txt)"
   ]
  },
  {
   "cell_type": "code",
   "execution_count": 8,
   "metadata": {},
   "outputs": [
    {
     "name": "stdout",
     "output_type": "stream",
     "text": [
      "The temperature is between -3 and 7 degrees celsius.\n"
     ]
    }
   ],
   "source": [
    "#Use \"-\" to always indicate if the number is negative (positive numbers are displayed without any sign):\n",
    "txt = f\"The temperature is between {-3:-} and {7:-} degrees celsius.\"\n",
    "print(txt)"
   ]
  },
  {
   "cell_type": "code",
   "execution_count": 9,
   "metadata": {},
   "outputs": [
    {
     "name": "stdout",
     "output_type": "stream",
     "text": [
      "The temperature is between -3 and  7 degrees celsius.\n"
     ]
    }
   ],
   "source": [
    "#Use \" \" (a space) to insert a space before positive numbers and a minus sign before negative numbers:\n",
    "txt = f\"The temperature is between {-3: } and {7: } degrees celsius.\"\n",
    "print(txt)"
   ]
  },
  {
   "cell_type": "code",
   "execution_count": 10,
   "metadata": {},
   "outputs": [
    {
     "name": "stdout",
     "output_type": "stream",
     "text": [
      "The universe is 13,800,000,000 years old.\n"
     ]
    }
   ],
   "source": [
    "#Use \",\" to add a comma as a thousand separator:\n",
    "txt = f\"The universe is {13800000000:,} years old.\"\n",
    "print(txt)"
   ]
  },
  {
   "cell_type": "code",
   "execution_count": 11,
   "metadata": {},
   "outputs": [
    {
     "name": "stdout",
     "output_type": "stream",
     "text": [
      "The universe is 13_800_000_000 years old.\n"
     ]
    }
   ],
   "source": [
    "#Use \"_\" to add a underscore character as a thousand separator:\n",
    "txt = f\"The universe is {13800000000:_} years old.\"\n",
    "print(txt)"
   ]
  },
  {
   "cell_type": "code",
   "execution_count": 12,
   "metadata": {},
   "outputs": [
    {
     "name": "stdout",
     "output_type": "stream",
     "text": [
      "The binary version of 5 is 101\n"
     ]
    }
   ],
   "source": [
    "#Use \"b\" to convert the number into binary format:\n",
    "txt = f\"The binary version of 5 is {5:b}\"\n",
    "print(txt)"
   ]
  },
  {
   "cell_type": "code",
   "execution_count": 13,
   "metadata": {},
   "outputs": [
    {
     "name": "stdout",
     "output_type": "stream",
     "text": [
      "We have 5 chickens.\n"
     ]
    }
   ],
   "source": [
    "#Use \"d\" to convert a number, in this case a binary number, into decimal number format:\n",
    "txt = f\"We have {0b101:d} chickens.\"\n",
    "print(txt)"
   ]
  },
  {
   "cell_type": "code",
   "execution_count": 20,
   "metadata": {},
   "outputs": [
    {
     "name": "stdout",
     "output_type": "stream",
     "text": [
      "We have 5.000000e+04 chickens.\n",
      "We have 5.000000E+04 chickens.\n"
     ]
    }
   ],
   "source": [
    "#Use \"e\" to convert a number into scientific number format (with a lower-case e):\n",
    "txt = f\"We have {50_000:e} chickens.\"\n",
    "print(txt)\n",
    "\n",
    "#Use \"E\" to convert a number into scientific number format (with an upper-case E):\n",
    "txt = f\"We have {50_000:E} chickens.\"\n",
    "print(txt)"
   ]
  },
  {
   "cell_type": "code",
   "execution_count": 15,
   "metadata": {},
   "outputs": [
    {
     "name": "stdout",
     "output_type": "stream",
     "text": [
      "The price is 45.00 dollars.\n",
      "The price is 45.000000 dollars.\n",
      "The price is INF dollars.\n",
      "The price is inf dollars.\n"
     ]
    }
   ],
   "source": [
    "#Use \"f\" to convert a number into a fixed point number, default with 6 decimals, but use a period followed by a number to specify the number of decimals:\n",
    "txt = f\"The price is {45:.2f} dollars.\"\n",
    "print(txt)\n",
    "\n",
    "#without the \".2\" inside the placeholder, this number will be displayed like this:\n",
    "txt = f\"The price is {45:f} dollars.\"\n",
    "print(txt)\n",
    "\n",
    "#Use \"F\" to convert a number into a fixed point number, but display inf and nan as INF and NAN:\n",
    "x = float('inf')\n",
    "txt = f\"The price is {x:F} dollars.\"\n",
    "print(txt)\n",
    "\n",
    "#same example, but with a lower case f:\n",
    "txt = f\"The price is {x:f} dollars.\"\n",
    "print(txt)"
   ]
  },
  {
   "cell_type": "code",
   "execution_count": 16,
   "metadata": {},
   "outputs": [
    {
     "name": "stdout",
     "output_type": "stream",
     "text": [
      "The octal version of 10 is 12\n"
     ]
    }
   ],
   "source": [
    "#Use \"o\" to convert the number into octal format:\n",
    "txt = f\"The octal version of 10 is {10:o}\"\n",
    "print(txt)"
   ]
  },
  {
   "cell_type": "code",
   "execution_count": 17,
   "metadata": {},
   "outputs": [
    {
     "name": "stdout",
     "output_type": "stream",
     "text": [
      "The Hexadecimal version of 255 is ff\n",
      "The Hexadecimal version of 255 is FF\n"
     ]
    }
   ],
   "source": [
    "#Use \"x\" to convert the number into Hex format:\n",
    "txt = f\"The Hexadecimal version of 255 is {255:x}\"\n",
    "print(txt)\n",
    "\n",
    "#Use \"X\" to convert the number into upper-case Hex format:\n",
    "txt = f\"The Hexadecimal version of 255 is {255:X}\"\n",
    "print(txt)"
   ]
  },
  {
   "cell_type": "code",
   "execution_count": 18,
   "metadata": {},
   "outputs": [
    {
     "name": "stdout",
     "output_type": "stream",
     "text": [
      "You scored 25.000000%\n",
      "You scored 25%\n"
     ]
    }
   ],
   "source": [
    "#Use \"%\" to convert the number into a percentage format:\n",
    "txt = f\"You scored {0.25:%}\"\n",
    "print(txt)\n",
    "\n",
    "#Or, without any decimals:\n",
    "txt = f\"You scored {0.25:.0%}\"\n",
    "print(txt)"
   ]
  }
 ],
 "metadata": {
  "kernelspec": {
   "display_name": "python_course",
   "language": "python",
   "name": "python3"
  },
  "language_info": {
   "codemirror_mode": {
    "name": "ipython",
    "version": 3
   },
   "file_extension": ".py",
   "mimetype": "text/x-python",
   "name": "python",
   "nbconvert_exporter": "python",
   "pygments_lexer": "ipython3",
   "version": "3.11.8"
  }
 },
 "nbformat": 4,
 "nbformat_minor": 2
}
