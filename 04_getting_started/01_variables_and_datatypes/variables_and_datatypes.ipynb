{
 "cells": [
  {
   "cell_type": "markdown",
   "metadata": {},
   "source": [
    "# Variables and data types\n",
    "\n",
    "In programming, data type is an important concept.\n",
    "\n",
    "Variables can store data of different types, and different types can do different things.\n",
    "\n",
    "Python has the following data types built-in by default, in these categories:\n",
    "- Text Type: \t    `str`\n",
    "- Numeric Types: \t`int, float, complex`\n",
    "- Sequence Types: \t`list, tuple, range`\n",
    "- Boolean Type: \t`bool`\n",
    "\n",
    "Some advanced types are:\n",
    "- Mapping Type: \t`dict`\n",
    "- Set Types: \t    `set, frozenset`\n",
    "- Binary Types: \t`bytes, bytearray, memoryview`\n",
    "- None Type: \t    `NoneType`\n",
    "\n",
    "\n",
    "Try it out! Think what type the following x's are. To check wether you're right or wrong, use type(x) to get the type of x and print it out!"
   ]
  },
  {
   "cell_type": "code",
   "execution_count": 1,
   "metadata": {},
   "outputs": [],
   "source": [
    "x = 20\n",
    "x = 11.3\n",
    "x = 20_000_000\n",
    "x = 0b1010\n",
    "x = 'Hello World'\n",
    "x = True\n",
    "x = [1,2,3,4,5]\n",
    "x = ['one', 'two', 'three']"
   ]
  },
  {
   "cell_type": "markdown",
   "metadata": {},
   "source": [
    "If you want to specify the data type, you can use the following constructor functions:"
   ]
  },
  {
   "cell_type": "code",
   "execution_count": 2,
   "metadata": {},
   "outputs": [],
   "source": [
    "x = str(20)\n",
    "x = int('20')\n",
    "x = float('20')\n",
    "x = int(22.1)"
   ]
  },
  {
   "cell_type": "markdown",
   "metadata": {},
   "source": [
    "This is also how \"casting\" works: casting means to transform a variable of type x into type y:"
   ]
  },
  {
   "cell_type": "code",
   "execution_count": 1,
   "metadata": {},
   "outputs": [
    {
     "name": "stdout",
     "output_type": "stream",
     "text": [
      "510\n",
      "15\n"
     ]
    }
   ],
   "source": [
    "a = '5'\n",
    "b = '10'\n",
    "print(a + b) # prints the string '510'\n",
    "print(int(a) + int(b)) # prints the integer 15"
   ]
  },
  {
   "cell_type": "markdown",
   "metadata": {},
   "source": [
    "A character is also just a number in the computer memory. One of the most common ways to represent characters is using the ASCII table. See https://en.wikipedia.org/wiki/ASCII#/media/File:ASCII_Table_(suitable_for_printing).svg"
   ]
  },
  {
   "cell_type": "code",
   "execution_count": 3,
   "metadata": {},
   "outputs": [
    {
     "name": "stdout",
     "output_type": "stream",
     "text": [
      "a\n",
      "b\n",
      "c\n"
     ]
    }
   ],
   "source": [
    "# decimal ASCII values for characters 'a', 'b' and 'c'. chr() function converts ASCII values to characters\n",
    "a = 97\n",
    "b = 98\n",
    "c = 99\n",
    "print(chr(a))\n",
    "print(chr(b))\n",
    "print(chr(c))"
   ]
  },
  {
   "cell_type": "code",
   "execution_count": 4,
   "metadata": {},
   "outputs": [
    {
     "name": "stdout",
     "output_type": "stream",
     "text": [
      "97\n",
      "98\n",
      "99\n"
     ]
    }
   ],
   "source": [
    "# ord() function returns the ASCII value of a character\n",
    "a = 'a'\n",
    "b = 'b'\n",
    "c = 'c'\n",
    "print(ord(a))\n",
    "print(ord(b))\n",
    "print(ord(c))"
   ]
  },
  {
   "cell_type": "markdown",
   "metadata": {},
   "source": [
    "As you (should) know by now, he ASCII codes for the letters 'a', 'b', and 'c' are 97, 98, 99. What data type do the variables a, b, and c in the following example have? Figure out how to assign d, so that it contains the string 'abc'."
   ]
  },
  {
   "cell_type": "code",
   "execution_count": 5,
   "metadata": {},
   "outputs": [],
   "source": [
    "a = '97'\n",
    "b = '98'\n",
    "c = '99'\n",
    "d = \n",
    "\n",
    "print(d) # prints the string 'abc'"
   ]
  },
  {
   "cell_type": "markdown",
   "metadata": {},
   "source": [
    "What happens, if we change the variable names to b, c, and d? (Shifting it one to the next letter in the alphabet)"
   ]
  },
  {
   "cell_type": "markdown",
   "metadata": {},
   "source": [
    "## Mutable / immutable objects\n",
    "\n",
    "You might not understand the following yet. Don't worry, read it anyway if you want, keep it deep in your mind and come back when stuff doesn't behave like you'd expect.\n",
    "\n",
    "Python uses a mechanism often referred to as \"call by object reference\" or \"call by sharing.\" Here's how it works:\n",
    "\n",
    "Assignment:\n",
    "\n",
    "- When you assign a variable, you are creating a reference to the object in memory.\n",
    "- If the object is mutable (e.g., lists, dictionaries), changes to the object through one reference will be reflected in all references to that object.\n",
    "- If the object is immutable (e.g., integers, strings, tuples), any modification will result in a new object being created.\n",
    "\n",
    "Function Arguments:\n",
    "\n",
    "- When you pass an argument to a function, you are passing a reference to the object, not the actual object itself.\n",
    "- If the object is mutable, changes made to the object within the function will affect the original object.\n",
    "-If the object is immutable, changes within the function will not affect the original object; instead, a new object will be created.\n",
    "\n",
    "\n",
    "Example:"
   ]
  },
  {
   "cell_type": "code",
   "execution_count": 1,
   "metadata": {},
   "outputs": [
    {
     "name": "stdout",
     "output_type": "stream",
     "text": [
      "[1, 2, 4]\n",
      "10\n"
     ]
    }
   ],
   "source": [
    "def modify_list(lst):\n",
    "    lst[2] = 4\n",
    "\n",
    "def modify_integer(x):\n",
    "    x += 1\n",
    "\n",
    "# Mutable object (list)\n",
    "my_list = [1, 2, 3]\n",
    "modify_list(my_list)\n",
    "print(my_list)  # Output: [1, 2, 4]\n",
    "\n",
    "# Immutable object (integer)\n",
    "my_int = 10\n",
    "modify_integer(my_int)\n",
    "print(my_int)  # Output: 10"
   ]
  },
  {
   "cell_type": "markdown",
   "metadata": {},
   "source": [
    "Immutable Objects:\n",
    "- Integers: `int`\n",
    "- Floating-point numbers: `float`\n",
    "- Strings: `str`\n",
    "- Tuples: `tuple`\n",
    "- Booleans: `bool`\n",
    "- Frozen sets: `frozenset`\n",
    "\n",
    "Mutable Objects:\n",
    "- Lists: `list`\n",
    "- Dictionaries: `dict`\n",
    "- Sets: `set`\n",
    "- Byte arrays: `bytearray`"
   ]
  },
  {
   "cell_type": "markdown",
   "metadata": {},
   "source": []
  }
 ],
 "metadata": {
  "kernelspec": {
   "display_name": "python_course",
   "language": "python",
   "name": "python3"
  },
  "language_info": {
   "codemirror_mode": {
    "name": "ipython",
    "version": 3
   },
   "file_extension": ".py",
   "mimetype": "text/x-python",
   "name": "python",
   "nbconvert_exporter": "python",
   "pygments_lexer": "ipython3",
   "version": "3.11.8"
  }
 },
 "nbformat": 4,
 "nbformat_minor": 2
}
