{
 "cells": [
  {
   "cell_type": "markdown",
   "metadata": {},
   "source": [
    "## Arrays\n",
    "\n",
    "In Python, Arrays are called Lists. To use arrays for mathematical high intensive calculation puroses, Numpy is recommended.\n",
    "\n",
    "Arrays are used to store multiple values in one single variable. They can be sliced like strings (see chapter strings)"
   ]
  },
  {
   "cell_type": "code",
   "execution_count": 1,
   "metadata": {},
   "outputs": [],
   "source": [
    "cars = [\"Ford\", \"Volvo\", \"BMW\"]"
   ]
  },
  {
   "cell_type": "markdown",
   "metadata": {},
   "source": [
    "You can access the content with the index number:"
   ]
  },
  {
   "cell_type": "code",
   "execution_count": null,
   "metadata": {},
   "outputs": [],
   "source": [
    "print(cars[0])"
   ]
  },
  {
   "cell_type": "markdown",
   "metadata": {},
   "source": [
    "Use the `len()` method to return the length of an array (the number of elements in an array)."
   ]
  },
  {
   "cell_type": "code",
   "execution_count": null,
   "metadata": {},
   "outputs": [],
   "source": [
    "print(len(cars))"
   ]
  },
  {
   "cell_type": "markdown",
   "metadata": {},
   "source": [
    "You can use the for in loop to loop through all the elements of an array. (More to that in the chapter loops)"
   ]
  },
  {
   "cell_type": "code",
   "execution_count": null,
   "metadata": {},
   "outputs": [],
   "source": [
    "for x in cars:\n",
    "    print(x)"
   ]
  },
  {
   "cell_type": "markdown",
   "metadata": {},
   "source": [
    "You can use the `append()` method (of the List Class) to add an element to an array.\n",
    "\n",
    "Try it out! Add two more car brands to the list and print all the elements with a for loop like the one above!"
   ]
  },
  {
   "cell_type": "code",
   "execution_count": 5,
   "metadata": {},
   "outputs": [],
   "source": [
    "# Your code here"
   ]
  },
  {
   "cell_type": "markdown",
   "metadata": {},
   "source": [
    "## Exercise\n",
    "\n",
    "- Create a 2-dimensional list (Lists in a list): The first dimension has the size 7 - 7 weekdays! In the second dimension, put some tasks or meetings from you calender.\n",
    "- Print the second task from Friday! (Make sure you have at least two tasks added on friday)"
   ]
  },
  {
   "cell_type": "code",
   "execution_count": null,
   "metadata": {},
   "outputs": [],
   "source": [
    "# your code here"
   ]
  },
  {
   "cell_type": "markdown",
   "metadata": {},
   "source": [
    "## Array Methods"
   ]
  },
  {
   "cell_type": "markdown",
   "metadata": {},
   "source": [
    "| Method     | Description                                                                     |\n",
    "|------------|---------------------------------------------------------------------------------|\n",
    "| append()   | Adds an element at the end of the list                                          |\n",
    "| clear()    | Removes all the elements from the list                                          |\n",
    "| copy()     | Returns a copy of the list                                                      |\n",
    "| count()    | Returns the number of elements with the specified value                         |\n",
    "| extend()   | Add the elements of a list (or any iterable), to the end of the current list    |\n",
    "| index()    | Returns the index of the first element with the specified value                 |\n",
    "| insert()   | Adds an element at the specified position                                       |\n",
    "| pop()      | Removes the element at the specified position                                   |\n",
    "| remove()   | Removes the first item with the specified value                                 |\n",
    "| reverse()  | Reverses the order of the list                                                  |\n",
    "| sort()     | Sorts the list                                                                  |"
   ]
  },
  {
   "cell_type": "markdown",
   "metadata": {},
   "source": []
  }
 ],
 "metadata": {
  "kernelspec": {
   "display_name": "python_course",
   "language": "python",
   "name": "python3"
  },
  "language_info": {
   "codemirror_mode": {
    "name": "ipython",
    "version": 3
   },
   "file_extension": ".py",
   "mimetype": "text/x-python",
   "name": "python",
   "nbconvert_exporter": "python",
   "pygments_lexer": "ipython3",
   "version": "3.11.8"
  }
 },
 "nbformat": 4,
 "nbformat_minor": 2
}
