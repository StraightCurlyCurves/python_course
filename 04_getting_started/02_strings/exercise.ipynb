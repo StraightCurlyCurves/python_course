{
 "cells": [
  {
   "cell_type": "markdown",
   "metadata": {},
   "source": [
    "## Slicing Strings\n",
    "\n",
    "You can return a range of characters by using the slice syntax.\n",
    "\n",
    "Specify the start index and the end index, separated by a colon, to return a part of the string: `string[start:end]`\n",
    "\n",
    "Try it out! Slice the following string in a way, so that only \"World\" gets returned.\n",
    "\n",
    "Note: The first character has index 0."
   ]
  },
  {
   "cell_type": "code",
   "execution_count": null,
   "metadata": {},
   "outputs": [],
   "source": [
    "message = \"Hello, World!\"\n",
    "sliced_message = \n",
    "print(sliced_message) # \"World\""
   ]
  },
  {
   "cell_type": "markdown",
   "metadata": {},
   "source": [
    "By leaving out the start index, the range will start at the first character, and vice verca!\n",
    "\n",
    "Try it out!"
   ]
  },
  {
   "cell_type": "code",
   "execution_count": 2,
   "metadata": {},
   "outputs": [],
   "source": [
    "# your code here"
   ]
  },
  {
   "cell_type": "markdown",
   "metadata": {},
   "source": [
    "## Modifiy Strings\n",
    "\n",
    "The string class comes with many useful methods: [Link](https://www.w3schools.com/python/python_strings_methods.asp)\n",
    "\n",
    "Let's try some of the more common one out!"
   ]
  },
  {
   "cell_type": "markdown",
   "metadata": {},
   "source": [
    "### Split Strings\n",
    "\n",
    "The `split()` method returns a list where the text between the specified separator becomes the list items."
   ]
  },
  {
   "cell_type": "code",
   "execution_count": null,
   "metadata": {},
   "outputs": [],
   "source": [
    "countries = \"Switzerland:Germany:France:Italy:Austria:Liechtenstein\"\n",
    "splitted_countries = countries.split(\":\")\n",
    "print(splitted_countries) # ['Switzerland', 'Germany', 'France', 'Italy', 'Austria', 'Liechtenstein']"
   ]
  },
  {
   "cell_type": "markdown",
   "metadata": {},
   "source": [
    "### Upper / lower case"
   ]
  },
  {
   "cell_type": "code",
   "execution_count": null,
   "metadata": {},
   "outputs": [],
   "source": [
    "message = \"Hello, World!\"\n",
    "print(message.upper())"
   ]
  },
  {
   "cell_type": "markdown",
   "metadata": {},
   "source": [
    "Try out the `lower()` method!"
   ]
  },
  {
   "cell_type": "code",
   "execution_count": 4,
   "metadata": {},
   "outputs": [],
   "source": [
    "# your code here"
   ]
  },
  {
   "cell_type": "markdown",
   "metadata": {},
   "source": [
    "### Replace\n",
    "\n",
    "The `replace()` method replaces a string with another string:"
   ]
  },
  {
   "cell_type": "code",
   "execution_count": null,
   "metadata": {},
   "outputs": [],
   "source": [
    "a = \"Hello, World!\"\n",
    "print(a.replace(\"H\", \"J\"))"
   ]
  },
  {
   "cell_type": "markdown",
   "metadata": {},
   "source": [
    "Replace the word World with Switzerland!"
   ]
  },
  {
   "cell_type": "code",
   "execution_count": 6,
   "metadata": {},
   "outputs": [],
   "source": [
    "# Your code here"
   ]
  },
  {
   "cell_type": "markdown",
   "metadata": {},
   "source": [
    "## Concatenate Strings\n",
    "\n",
    "To concatenate, or combine, two strings you can use the + operator.\n",
    "\n",
    "Try it out! Combine the strings:"
   ]
  },
  {
   "cell_type": "code",
   "execution_count": null,
   "metadata": {},
   "outputs": [],
   "source": [
    "string1 = \"Hello\"\n",
    "string2 = \"World!\"\n",
    "hello_world =\n",
    "\n",
    "print(hello_world) # \"Hello, World!\""
   ]
  },
  {
   "cell_type": "markdown",
   "metadata": {},
   "source": [
    "## Exercise\n",
    "\n",
    "Write a Python function that takes a string as input and performs the following operations:\n",
    "\n",
    "- Converts the string to lowercase.\n",
    "- Removes any leading and trailing whitespace.\n",
    "- Replaces all spaces with underscores (_).\n",
    "- Counts the number of vowels (a, e, i, o, u) in the string.\n",
    "- Returns the modified string and the count of vowels."
   ]
  },
  {
   "cell_type": "code",
   "execution_count": null,
   "metadata": {},
   "outputs": [],
   "source": [
    "def process_string(input_string):\n",
    "    # Your code here\n",
    "    pass\n",
    "\n",
    "# Example usage:\n",
    "result = process_string(\"  Hello World!  \")\n",
    "print(result)  # Output: ('hello_world!', 3)"
   ]
  },
  {
   "cell_type": "markdown",
   "metadata": {},
   "source": [
    "## String formatting\n",
    "\n",
    "Even though string formatting doesn't have anything to do directly with the print function, it is often times used to format a string to print out to the console.\n",
    "\n",
    "To format a string, you can place an `f` in front of the string and use placehoder `{}` which can contain variables, operations, functions, and modifiers to format the value."
   ]
  },
  {
   "cell_type": "code",
   "execution_count": null,
   "metadata": {},
   "outputs": [],
   "source": [
    "price = 49.64578424\n",
    "txt = f\"The price is {price} dollars, which is roughly {price:.2f} dollars\"\n",
    "print(txt)\n",
    "print(f\"Double the price is roughly {price*2:.0f}.- dollars.\")\n",
    "print(f\"{price:.2f} dollars for two tickets is {'expensive' if price > 50 else 'cheap'}.\")\n",
    "print(f\"{price:.2f} dollars for one ticket is {'expensive' if price > 25 else 'cheap'}.\")\n",
    "print(f\"A million tickets would cost {price*1_000_000:.2f} dollars.\")\n",
    "print(f\"This price is more readable with commas and rounded to a dollar: {price*1_000_000:,.0f}.- dollars.\")\n",
    "print()\n",
    "print(\"Also, it is possible to print 'single quotation marks' by using double quotation marks\")\n",
    "print('and \"double quotation marks\" by using single quotation marks.')\n",
    "print(\"\"\"To print both 'single' and \"double\" quotation marks, use '''triple quotation marks'''.\"\"\")\n",
    "print('''To use all at the same time('singe', \"double\", \"\"\"triple(double)\"\"\") and '' 'triple(single)' '' (without a space)... well, don't you have bigger problems?.''')\n",
    "print('''No? Here you go: 'single', \"double\", \"\"\"triple(double)\"\"\" and \\'\\'\\'triple(single)\\'\\'\\' (indeed without a space).''')"
   ]
  },
  {
   "cell_type": "markdown",
   "metadata": {},
   "source": [
    "## Exercise\n",
    "\n",
    "Create the output shown as a comment by using all the given variables.\n"
   ]
  },
  {
   "cell_type": "code",
   "execution_count": null,
   "metadata": {},
   "outputs": [],
   "source": [
    "names = [\"Alice\", \"Bob\", \"Charlie\", \"David\", \"Eve\"]\n",
    "heights = [165.85, 180.25, 175.39, 192.56, 170.01]\n",
    "for name, height in zip(names, heights):\n",
    "    length = len(name)\n",
    "    print(f'{name+\":\":15}{height:.1f} cm')\n",
    "\n",
    "# Output:\n",
    "'''\n",
    "Alice:         165.8 cm\n",
    "Bob:           180.2 cm\n",
    "Charlie:       175.4 cm\n",
    "David:         192.6 cm\n",
    "Eve:           170.0 cm\n",
    "'''"
   ]
  },
  {
   "cell_type": "markdown",
   "metadata": {},
   "source": [
    "Here are examples for all the available string format modifiers:"
   ]
  },
  {
   "cell_type": "code",
   "execution_count": null,
   "metadata": {},
   "outputs": [],
   "source": [
    "#To demonstrate, we insert the number 8 to set the available space for the value to 8 characters.\n",
    "#Use \"<\" to left-align the value:\n",
    "txt = f\"We have {49:<8} chickens.\"\n",
    "print(txt)"
   ]
  },
  {
   "cell_type": "code",
   "execution_count": null,
   "metadata": {},
   "outputs": [],
   "source": [
    "#To demonstrate, we insert the number 8 to set the available space for the value to 8 characters.\n",
    "#Use \">\" to right-align the value:\n",
    "txt = f\"We have {49:>8} chickens.\"\n",
    "print(txt)"
   ]
  },
  {
   "cell_type": "code",
   "execution_count": null,
   "metadata": {},
   "outputs": [],
   "source": [
    "#To demonstrate, we insert the number 8 to set the available space for the value to 8 characters.\n",
    "#Use \"^\" to center-align the value:\n",
    "txt = f\"We have {49:^8} chickens.\"\n",
    "print(txt)"
   ]
  },
  {
   "cell_type": "code",
   "execution_count": null,
   "metadata": {},
   "outputs": [],
   "source": [
    "#To demonstrate, we insert the number 8 to specify the available space for the value.\n",
    "#Use \"=\" to place the plus/minus sign at the left most position:\n",
    "txt = f\"The temperature is {-5:=8} degrees celsius.\"\n",
    "print(txt)"
   ]
  },
  {
   "cell_type": "code",
   "execution_count": null,
   "metadata": {},
   "outputs": [],
   "source": [
    "#Use \"+\" to always indicate if the number is positive or negative:\n",
    "txt = f\"The temperature is between {-3:+} and {7:+} degrees celsius.\"\n",
    "print(txt)"
   ]
  },
  {
   "cell_type": "code",
   "execution_count": null,
   "metadata": {},
   "outputs": [],
   "source": [
    "#Use \"-\" to always indicate if the number is negative (positive numbers are displayed without any sign):\n",
    "txt = f\"The temperature is between {-3:-} and {7:-} degrees celsius.\"\n",
    "print(txt)"
   ]
  },
  {
   "cell_type": "code",
   "execution_count": null,
   "metadata": {},
   "outputs": [],
   "source": [
    "#Use \" \" (a space) to insert a space before positive numbers and a minus sign before negative numbers:\n",
    "txt = f\"The temperature is between {-3: } and {7: } degrees celsius.\"\n",
    "print(txt)"
   ]
  },
  {
   "cell_type": "code",
   "execution_count": null,
   "metadata": {},
   "outputs": [],
   "source": [
    "#Use \",\" to add a comma as a thousand separator:\n",
    "txt = f\"The universe is {13800000000:,} years old.\"\n",
    "print(txt)"
   ]
  },
  {
   "cell_type": "code",
   "execution_count": null,
   "metadata": {},
   "outputs": [],
   "source": [
    "#Use \"_\" to add a underscore character as a thousand separator:\n",
    "txt = f\"The universe is {13800000000:_} years old.\"\n",
    "print(txt)"
   ]
  },
  {
   "cell_type": "code",
   "execution_count": null,
   "metadata": {},
   "outputs": [],
   "source": [
    "#Use \"b\" to convert the number into binary format:\n",
    "txt = f\"The binary version of 5 is {5:b}\"\n",
    "print(txt)"
   ]
  },
  {
   "cell_type": "code",
   "execution_count": null,
   "metadata": {},
   "outputs": [],
   "source": [
    "#Use \"d\" to convert a number, in this case a binary number, into decimal number format:\n",
    "txt = f\"We have {0b101:d} chickens.\"\n",
    "print(txt)"
   ]
  },
  {
   "cell_type": "code",
   "execution_count": null,
   "metadata": {},
   "outputs": [],
   "source": [
    "#Use \"e\" to convert a number into scientific number format (with a lower-case e):\n",
    "txt = f\"We have {50_000:e} chickens.\"\n",
    "print(txt)\n",
    "\n",
    "#Use \"E\" to convert a number into scientific number format (with an upper-case E):\n",
    "txt = f\"We have {50_000:E} chickens.\"\n",
    "print(txt)"
   ]
  },
  {
   "cell_type": "code",
   "execution_count": null,
   "metadata": {},
   "outputs": [],
   "source": [
    "#Use \"f\" to convert a number into a fixed point number, default with 6 decimals, but use a period followed by a number to specify the number of decimals:\n",
    "txt = f\"The price is {45:.2f} dollars.\"\n",
    "print(txt)\n",
    "\n",
    "#without the \".2\" inside the placeholder, this number will be displayed like this:\n",
    "txt = f\"The price is {45:f} dollars.\"\n",
    "print(txt)\n",
    "\n",
    "#Use \"F\" to convert a number into a fixed point number, but display inf and nan as INF and NAN:\n",
    "x = float('inf')\n",
    "txt = f\"The price is {x:F} dollars.\"\n",
    "print(txt)\n",
    "\n",
    "#same example, but with a lower case f:\n",
    "txt = f\"The price is {x:f} dollars.\"\n",
    "print(txt)"
   ]
  },
  {
   "cell_type": "code",
   "execution_count": null,
   "metadata": {},
   "outputs": [],
   "source": [
    "#Use \"o\" to convert the number into octal format:\n",
    "txt = f\"The octal version of 10 is {10:o}\"\n",
    "print(txt)"
   ]
  },
  {
   "cell_type": "code",
   "execution_count": null,
   "metadata": {},
   "outputs": [],
   "source": [
    "#Use \"x\" to convert the number into Hex format:\n",
    "txt = f\"The Hexadecimal version of 255 is {255:x}\"\n",
    "print(txt)\n",
    "\n",
    "#Use \"X\" to convert the number into upper-case Hex format:\n",
    "txt = f\"The Hexadecimal version of 255 is {255:X}\"\n",
    "print(txt)"
   ]
  },
  {
   "cell_type": "code",
   "execution_count": null,
   "metadata": {},
   "outputs": [],
   "source": [
    "#Use \"%\" to convert the number into a percentage format:\n",
    "txt = f\"You scored {0.25:%}\"\n",
    "print(txt)\n",
    "\n",
    "#Or, without any decimals:\n",
    "txt = f\"You scored {0.25:.0%}\"\n",
    "print(txt)"
   ]
  }
 ],
 "metadata": {
  "kernelspec": {
   "display_name": "python_course",
   "language": "python",
   "name": "python3"
  },
  "language_info": {
   "codemirror_mode": {
    "name": "ipython",
    "version": 3
   },
   "file_extension": ".py",
   "mimetype": "text/x-python",
   "name": "python",
   "nbconvert_exporter": "python",
   "pygments_lexer": "ipython3",
   "version": "3.11.8"
  }
 },
 "nbformat": 4,
 "nbformat_minor": 2
}
